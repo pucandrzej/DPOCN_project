{
 "cells": [
  {
   "cell_type": "code",
   "execution_count": 1,
   "metadata": {},
   "outputs": [],
   "source": [
    "import numpy as np\n",
    "import matplotlib.pyplot as plt\n",
    "\n",
    "sys.path.insert(1, 'models')\n",
    "from q_voter_theoretical import *"
   ]
  },
  {
   "cell_type": "code",
   "execution_count": 2,
   "metadata": {},
   "outputs": [],
   "source": [
    "Image_width = 10\n",
    "plt.rc('text', usetex = True) # latex ticks\n",
    "plt.rc('text.latex')\n",
    "plt.rcParams['axes.unicode_minus'] = False\n",
    "plt.rcParams.update({\n",
    "    \"text.usetex\": True,\n",
    "    \"font.family\": \"serif\",\n",
    "    \"font.serif\": ['Computer Modern'],\n",
    "})\n",
    "\n",
    "EXTRA_SMALL = 10\n",
    "SMALL_SIZE = 12\n",
    "MEDIUM_SIZE = 15\n",
    "BIGGER_SIZE = 20\n",
    "\n",
    "plt.rc('font', size=EXTRA_SMALL)         # controls default text sizes\n",
    "plt.rc('axes', titlesize=BIGGER_SIZE)    # fontsize of the axes title\n",
    "plt.rc('axes', labelsize=MEDIUM_SIZE)    # fontsize of the x and y labels\n",
    "plt.rc('xtick', labelsize=SMALL_SIZE)    # fontsize of the tick labels\n",
    "plt.rc('ytick', labelsize=SMALL_SIZE)    # fontsize of the tick labels\n",
    "plt.rc('legend', fontsize=SMALL_SIZE)    # legend fontsize\n",
    "plt.rc('figure', titlesize=BIGGER_SIZE)  # fontsize of the figure title"
   ]
  },
  {
   "cell_type": "markdown",
   "metadata": {},
   "source": [
    "# Figure 2"
   ]
  },
  {
   "cell_type": "markdown",
   "metadata": {},
   "source": [
    "## Left panel"
   ]
  },
  {
   "cell_type": "code",
   "execution_count": 33,
   "metadata": {},
   "outputs": [],
   "source": [
    "x_ax_limits = [0, 0.07]\n",
    "\n",
    "p = 0.03\n",
    "k = 50\n",
    "q_a = 4\n",
    "q_c = 10\n",
    "P = np.linspace(0, 0.07, 100)\n",
    "t = np.linspace(0, 1000,  1000)\n",
    "IC = [0.999, 1 - 0.999]\n",
    "SFP_1 = PA_stable_fixed_points(P, t, k, q_a, q_c, IC)\n",
    "\n",
    "upper_spinodal = SFP_1[0:-1][np.abs(np.diff(SFP_1)) == np.max(np.abs(np.diff(SFP_1)))][0]"
   ]
  },
  {
   "cell_type": "code",
   "execution_count": 22,
   "metadata": {},
   "outputs": [
    {
     "name": "stderr",
     "output_type": "stream",
     "text": [
      "c:\\Users\\andrz\\AppData\\Local\\Programs\\Python\\Python310\\lib\\site-packages\\scipy\\optimize\\_minpack_py.py:175: RuntimeWarning: The number of calls to function has reached maxfev = 600.\n",
      "  warnings.warn(msg, RuntimeWarning)\n"
     ]
    }
   ],
   "source": [
    "C = np.linspace(0.5001, upper_spinodal, 10000)\n",
    "IC = [0.055, 0.45]\n",
    "UFP = PA_unstable_fixed_points(C, k, q_a, q_c, IC, interpolate = True)"
   ]
  },
  {
   "cell_type": "code",
   "execution_count": 35,
   "metadata": {},
   "outputs": [
    {
     "data": {
      "text/plain": [
       "(0.0, 0.07)"
      ]
     },
     "execution_count": 35,
     "metadata": {},
     "output_type": "execute_result"
    },
    {
     "data": {
      "image/png": "[encoded data removed]",
      "text/plain": [
       "<Figure size 720x720 with 1 Axes>"
      ]
     },
     "metadata": {
      "needs_background": "light"
     },
     "output_type": "display_data"
    }
   ],
   "source": [
    "fig, ax = plt.subplots(figsize = (Image_width, Image_width))\n",
    "\n",
    "ax.plot(UFP, C, '--')\n",
    "ax.plot(P[SFP_1 >= upper_spinodal], SFP_1[SFP_1 >= upper_spinodal], color = ax.get_lines()[-1].get_c())\n",
    "ax.hlines(y = 0.5, xmin = x_ax_limits[0], xmax = UFP[0], linestyles = '--')\n",
    "ax.hlines(y = 0.5, xmin = UFP[0], xmax = x_ax_limits[1])\n",
    "ax.set_xlim(x_ax_limits)"
   ]
  },
  {
   "cell_type": "code",
   "execution_count": null,
   "metadata": {},
   "outputs": [],
   "source": []
  }
 ],
 "metadata": {
  "interpreter": {
   "hash": "d38922d36489c8af6ee2b2d50f32a85ff90f4f0643b51da8d07090b2c64ad6eb"
  },
  "kernelspec": {
   "display_name": "Python 3.10.1 64-bit",
   "language": "python",
   "name": "python3"
  },
  "language_info": {
   "codemirror_mode": {
    "name": "ipython",
    "version": 3
   },
   "file_extension": ".py",
   "mimetype": "text/x-python",
   "name": "python",
   "nbconvert_exporter": "python",
   "pygments_lexer": "ipython3",
   "version": "3.10.1"
  },
  "orig_nbformat": 4
 },
 "nbformat": 4,
 "nbformat_minor": 2
}
