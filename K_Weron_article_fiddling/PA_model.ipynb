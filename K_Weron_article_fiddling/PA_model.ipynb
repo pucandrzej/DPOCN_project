{
 "cells": [
  {
   "cell_type": "code",
   "execution_count": 64,
   "metadata": {},
   "outputs": [],
   "source": [
    "from numpy import *\n",
    "import pylab\n",
    "from scipy import integrate\n",
    "import matplotlib.pyplot as plt"
   ]
  },
  {
   "cell_type": "markdown",
   "metadata": {},
   "source": [
    "Attempt to solve the PA model differential equations system."
   ]
  },
  {
   "cell_type": "code",
   "execution_count": 65,
   "metadata": {},
   "outputs": [],
   "source": [
    "# Definition of parameters\n",
    "p = 0.01\n",
    "k = 40\n",
    "q = 8\n",
    "c_down = lambda c: 1 - c\n",
    "c_up = lambda c: c\n",
    "theta_down = lambda b, c: b / (2 * (1 - c))\n",
    "theta_up = lambda b, c: b / ((2 * c))\n",
    "def dX_dt(t, X):\n",
    "    c = X[0]\n",
    "    b = X[1]\n",
    "    return array([ (1 - p) * (c_down(c) * theta_down(b, c) ** q - c_up(c) * theta_up(b, c) ** q) + p / 2 * (c_down(c) - c_up(c)) ,\n",
    "                    2 / k * (c_down(c) * ((1 - p) * theta_down(b, c) ** q * (k - 2 * q - 2 * (k - q) * theta_down(b, c)) + p * k / 2 * (1 - 2 * theta_down(b, c))) + \n",
    "                    c_up(c) * ((1 - p) * theta_up(b, c) ** q * (k - 2 * q - 2 * (k - q) * theta_up(b, c)) + p * k / 2 * (1 - 2 * theta_up(b, c)))) ])\n",
    "    "
   ]
  },
  {
   "cell_type": "code",
   "execution_count": 66,
   "metadata": {},
   "outputs": [],
   "source": [
    "def p_from_c(c, q, k):\n",
    "    \"\"\"Not working yet, sth is wrong in Arek article or I do not understand it\n",
    "\n",
    "    Args:\n",
    "        c (_type_): _description_\n",
    "        q (_type_): _description_\n",
    "        k (_type_): _description_\n",
    "\n",
    "    Returns:\n",
    "        _type_: _description_\n",
    "    \"\"\"    \n",
    "    b = 2 * (c * (1 - c) * ((1 - c) ** q - c ** q) - (q / k) * (1 - 2 * c) * (c * (1 - c) ** q + (1 - c) * c ** q)) / ((1 - c) ** q - c ** q - (q / k) * (1 - 2 * c) * ((1 - c) ** q + c ** q))\n",
    "    X = c_down(c) * theta_down(b, c) ** q - c_up(c) * theta_up(b, c) ** q\n",
    "    Y = c_down(c) * theta_down(b, c) ** q - c_up(c) * theta_up(b, c) ** q - (c_down(c) - c_up(c)) / 2\n",
    "    return X / (X - Y)"
   ]
  },
  {
   "cell_type": "code",
   "execution_count": 67,
   "metadata": {},
   "outputs": [],
   "source": [
    "c = 1\n",
    "q = 8\n",
    "k = 40"
   ]
  },
  {
   "cell_type": "code",
   "execution_count": 68,
   "metadata": {},
   "outputs": [
    {
     "data": {
      "text/plain": [
       "-0.048943497987377245"
      ]
     },
     "execution_count": 68,
     "metadata": {},
     "output_type": "execute_result"
    }
   ],
   "source": [
    "p_from_c(0.6, 8, 40)"
   ]
  },
  {
   "cell_type": "code",
   "execution_count": 69,
   "metadata": {},
   "outputs": [],
   "source": [
    "t = linspace(0, 1500,  10000)              # time\n",
    "X0 = array([0.4, 0.1])                 # initials conditions\n",
    "sol = integrate.solve_ivp(dX_dt, [0, 3000], X0, dense_output=True)"
   ]
  },
  {
   "cell_type": "code",
   "execution_count": 70,
   "metadata": {},
   "outputs": [
    {
     "data": {
      "text/plain": [
       "Text(0, 0.5, 'value')"
      ]
     },
     "execution_count": 70,
     "metadata": {},
     "output_type": "execute_result"
    },
    {
     "data": {
      "image/png": "[encoded data removed]",
      "text/plain": [
       "<Figure size 432x288 with 1 Axes>"
      ]
     },
     "metadata": {
      "needs_background": "light"
     },
     "output_type": "display_data"
    },
    {
     "data": {
      "image/png": "[encoded data removed]",
      "text/plain": [
       "<Figure size 432x288 with 1 Axes>"
      ]
     },
     "metadata": {
      "needs_background": "light"
     },
     "output_type": "display_data"
    }
   ],
   "source": [
    "c, b = sol.sol(t)\n",
    "f1 = pylab.figure()\n",
    "pylab.plot(t, c, 'r-', label='c')\n",
    "pylab.grid()\n",
    "pylab.legend(loc='best')\n",
    "pylab.xlabel('time')\n",
    "pylab.ylabel('value')\n",
    "f2 = pylab.figure()\n",
    "pylab.plot(t, b  , 'b-', label='b')\n",
    "pylab.grid()\n",
    "pylab.legend(loc='best')\n",
    "pylab.xlabel('time')\n",
    "pylab.ylabel('value')"
   ]
  },
  {
   "cell_type": "markdown",
   "metadata": {},
   "source": [
    "For different $q_a$ and $q_c$"
   ]
  },
  {
   "cell_type": "code",
   "execution_count": 71,
   "metadata": {},
   "outputs": [],
   "source": [
    "from numpy import *\n",
    "import pylab\n",
    "from scipy import integrate\n",
    "# Definition of parameters\n",
    "p = 0.03\n",
    "k = 50\n",
    "q_a = 4\n",
    "q_c = 10\n",
    "c_down = lambda c: 1 - c\n",
    "c_up = lambda c: c\n",
    "theta_down = lambda b, c: b / (2 * (1 - c))\n",
    "theta_up = lambda b, c: b / ((2 * c))\n",
    "def dX_dt(t, X, p):\n",
    "    \"\"\" Return the growth rate of fox and rabbit populations. \"\"\"\n",
    "    c = X[0]\n",
    "    b = X[1]\n",
    "    return array([ (1 - p) * (c_down(c) * theta_down(b, c) ** q_c - c_up(c) * theta_up(b ,c) ** q_c) + p * (c_down(c) * ( 1 - theta_down(b, c)) ** q_a - c_up(c) * (1 - theta_up(b, c)) ** q_a) ,\n",
    "                    2 / k * (c_down(c) * ((1 - p) * theta_down(b, c) ** q_c * (k - 2 * q_c - 2 * (k - q_c) * theta_down(b, c)) + p * (1 - theta_down(b, c)) ** q_a * (k - 2 * (k - q_a) * theta_down(b, c))) + \n",
    "                    c_up(c) * ((1 - p) * theta_up(b, c) ** q_c * (k - 2 * q_c - 2 * (k - q_c) * theta_up(b, c)) + p * (1 - theta_up(b, c)) ** q_a * (k - 2 * (k - q_a) * theta_up(b, c)))) ])\n",
    "    "
   ]
  },
  {
   "cell_type": "code",
   "execution_count": 78,
   "metadata": {},
   "outputs": [],
   "source": [
    "P = linspace(0, 0.07, 100)\n",
    "t = linspace(0, 100000,  10000)\n",
    "Stable_states = ones(size(P))\n",
    "for i, p in enumerate(P):\n",
    "    X0 = array([0.999, 1 - 0.999])                 # initials conditions\n",
    "    sol = integrate.solve_ivp(dX_dt, [0, 100000], X0, args = [p], dense_output = True)\n",
    "    c, b = sol.sol(t)\n",
    "    Stable_states[i] = c[-1]"
   ]
  },
  {
   "cell_type": "markdown",
   "metadata": {},
   "source": [
    "trying to calculate c vs p"
   ]
  },
  {
   "cell_type": "code",
   "execution_count": null,
   "metadata": {},
   "outputs": [
    {
     "data": {
      "text/plain": [
       "[<matplotlib.lines.Line2D at 0x17410231d50>]"
      ]
     },
     "execution_count": 73,
     "metadata": {},
     "output_type": "execute_result"
    },
    {
     "data": {
      "image/png": "[encoded data removed]",
      "text/plain": [
       "<Figure size 432x288 with 1 Axes>"
      ]
     },
     "metadata": {
      "needs_background": "light"
     },
     "output_type": "display_data"
    }
   ],
   "source": [
    "plt.plot(P, Stable_states, '.')"
   ]
  },
  {
   "cell_type": "code",
   "execution_count": 74,
   "metadata": {},
   "outputs": [],
   "source": [
    "P = linspace(0, 0.07, 100)\n",
    "t = linspace(0, 100000,  10000)\n",
    "Stable_states = ones(size(P))\n",
    "for i, p in enumerate(P):\n",
    "    X0 = array([0.50001, 0.1])                 # initials conditions\n",
    "    sol = integrate.solve_ivp(dX_dt, [0, 100000], X0, args = [p], dense_output = True)\n",
    "    c, b = sol.sol(t)\n",
    "    Stable_states[i] = c[-1]"
   ]
  },
  {
   "cell_type": "code",
   "execution_count": 75,
   "metadata": {},
   "outputs": [
    {
     "data": {
      "text/plain": [
       "[<matplotlib.lines.Line2D at 0x174101ae0e0>]"
      ]
     },
     "execution_count": 75,
     "metadata": {},
     "output_type": "execute_result"
    },
    {
     "data": {
      "image/png": "[encoded data removed]",
      "text/plain": [
       "<Figure size 432x288 with 1 Axes>"
      ]
     },
     "metadata": {
      "needs_background": "light"
     },
     "output_type": "display_data"
    }
   ],
   "source": [
    "plt.plot(P, Stable_states, '.')"
   ]
  },
  {
   "cell_type": "code",
   "execution_count": 76,
   "metadata": {},
   "outputs": [],
   "source": [
    "def p_from_c(c):\n",
    "    b = 2 * (c * (1 - c) * ((1 - c) ** q - c ** q) - (q / k) * (1 - 2 * c) * (c * (1 - c) ** q) + (1 - c) * c ** q) / ((1 - c) ** q - c ** q - (q / k) * (1 - 2 * c) * ((1 - c) ** q + c ** q))\n",
    "    X = c_down(c) * theta_down(b, c) ** q_c - c_up(c) * theta_up ** q_c\n",
    "    Y = c_down(c) * (1 - theta_down(b, c)) ** q_a - c_up(c) * (1 - theta_up(b, c)) ** q_a\n",
    "    p = X / (X  -Y)"
   ]
  },
  {
   "cell_type": "code",
   "execution_count": 77,
   "metadata": {},
   "outputs": [
    {
     "ename": "TypeError",
     "evalue": "p_from_c() takes 1 positional argument but 4 were given",
     "output_type": "error",
     "traceback": [
      "\u001b[1;31m---------------------------------------------------------------------------\u001b[0m",
      "\u001b[1;31mTypeError\u001b[0m                                 Traceback (most recent call last)",
      "\u001b[1;32mc:\\Users\\andrz\\DPOCN_project\\K_Weron_article_fiddling\\PA_model.ipynb Cell 17'\u001b[0m in \u001b[0;36m<module>\u001b[1;34m\u001b[0m\n\u001b[1;32m----> <a href='vscode-notebook-cell:/c%3A/Users/andrz/DPOCN_project/K_Weron_article_fiddling/PA_model.ipynb#ch0000035?line=0'>1</a>\u001b[0m plt\u001b[39m.\u001b[39mplot(p_from_c(b, linspace(\u001b[39m0.35\u001b[39;49m, \u001b[39m0.65\u001b[39;49m, \u001b[39m100\u001b[39;49m), q_a, q_c))\n",
      "\u001b[1;31mTypeError\u001b[0m: p_from_c() takes 1 positional argument but 4 were given"
     ]
    }
   ],
   "source": [
    "plt.plot(p_from_c(b, linspace(0.35, 0.65, 100), q_a, q_c))"
   ]
  }
 ],
 "metadata": {
  "interpreter": {
   "hash": "d38922d36489c8af6ee2b2d50f32a85ff90f4f0643b51da8d07090b2c64ad6eb"
  },
  "kernelspec": {
   "display_name": "Python 3.10.1 64-bit",
   "language": "python",
   "name": "python3"
  },
  "language_info": {
   "codemirror_mode": {
    "name": "ipython",
    "version": 3
   },
   "file_extension": ".py",
   "mimetype": "text/x-python",
   "name": "python",
   "nbconvert_exporter": "python",
   "pygments_lexer": "ipython3",
   "version": "3.10.1"
  },
  "orig_nbformat": 4
 },
 "nbformat": 4,
 "nbformat_minor": 2
}
