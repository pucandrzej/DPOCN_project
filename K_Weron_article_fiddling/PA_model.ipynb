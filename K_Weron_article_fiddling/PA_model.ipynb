{
 "cells": [
  {
   "cell_type": "code",
   "execution_count": 4,
   "metadata": {},
   "outputs": [],
   "source": [
    "from numpy import *\n",
    "import pylab\n",
    "from scipy import integrate\n",
    "import matplotlib.pyplot as plt\n",
    "import pandas as pd\n",
    "from scipy.optimize import fsolve"
   ]
  },
  {
   "cell_type": "code",
   "execution_count": 6,
   "metadata": {},
   "outputs": [],
   "source": [
    "c_down = lambda c: 1 - c\n",
    "c_up = lambda c: c\n",
    "theta_down = lambda b, c: b / (2 * (1 - c))\n",
    "theta_up = lambda b, c: b / ((2 * c))"
   ]
  },
  {
   "cell_type": "markdown",
   "metadata": {},
   "source": [
    "For different $q_a$ and $q_c$"
   ]
  },
  {
   "cell_type": "code",
   "execution_count": 2,
   "metadata": {},
   "outputs": [],
   "source": [
    "from numpy import *\n",
    "import pylab\n",
    "from scipy import integrate\n",
    "# Definition of parameters\n",
    "p = 0.03\n",
    "k = 50\n",
    "q_a = 4\n",
    "q_c = 10\n",
    "def dX_dt(t, X, p):\n",
    "    c = X[0]\n",
    "    b = X[1]\n",
    "    return array([ (1 - p) * (c_down(c) * theta_down(b, c) ** q_c - c_up(c) * theta_up(b ,c) ** q_c) + p * (c_down(c) * ( 1 - theta_down(b, c)) ** q_a - c_up(c) * (1 - theta_up(b, c)) ** q_a) ,\n",
    "                    2 / k * (c_down(c) * ((1 - p) * theta_down(b, c) ** q_c * (k - 2 * q_c - 2 * (k - q_c) * theta_down(b, c)) + p * (1 - theta_down(b, c)) ** q_a * (k - 2 * (k - q_a) * theta_down(b, c))) + \n",
    "                    c_up(c) * ((1 - p) * theta_up(b, c) ** q_c * (k - 2 * q_c - 2 * (k - q_c) * theta_up(b, c)) + p * (1 - theta_up(b, c)) ** q_a * (k - 2 * (k - q_a) * theta_up(b, c)))) ])\n",
    "    "
   ]
  },
  {
   "cell_type": "code",
   "execution_count": 3,
   "metadata": {},
   "outputs": [
    {
     "ename": "KeyboardInterrupt",
     "evalue": "",
     "output_type": "error",
     "traceback": [
      "\u001b[1;31m---------------------------------------------------------------------------\u001b[0m",
      "\u001b[1;31mKeyboardInterrupt\u001b[0m                         Traceback (most recent call last)",
      "\u001b[1;32mc:\\Users\\andrz\\DPOCN_project\\K_Weron_article_fiddling\\PA_model.ipynb Cell 4'\u001b[0m in \u001b[0;36m<module>\u001b[1;34m\u001b[0m\n\u001b[0;32m      <a href='vscode-notebook-cell:/c%3A/Users/andrz/DPOCN_project/K_Weron_article_fiddling/PA_model.ipynb#ch0000003?line=3'>4</a>\u001b[0m \u001b[39mfor\u001b[39;00m i, p \u001b[39min\u001b[39;00m \u001b[39menumerate\u001b[39m(P):\n\u001b[0;32m      <a href='vscode-notebook-cell:/c%3A/Users/andrz/DPOCN_project/K_Weron_article_fiddling/PA_model.ipynb#ch0000003?line=4'>5</a>\u001b[0m     X0 \u001b[39m=\u001b[39m array([\u001b[39m0.999\u001b[39m, \u001b[39m1\u001b[39m \u001b[39m-\u001b[39m \u001b[39m0.999\u001b[39m])                 \u001b[39m# initials conditions\u001b[39;00m\n\u001b[1;32m----> <a href='vscode-notebook-cell:/c%3A/Users/andrz/DPOCN_project/K_Weron_article_fiddling/PA_model.ipynb#ch0000003?line=5'>6</a>\u001b[0m     sol \u001b[39m=\u001b[39m integrate\u001b[39m.\u001b[39;49msolve_ivp(dX_dt, [\u001b[39m0\u001b[39;49m, \u001b[39m10000\u001b[39;49m], X0, args \u001b[39m=\u001b[39;49m [p], dense_output \u001b[39m=\u001b[39;49m \u001b[39mTrue\u001b[39;49;00m)\n\u001b[0;32m      <a href='vscode-notebook-cell:/c%3A/Users/andrz/DPOCN_project/K_Weron_article_fiddling/PA_model.ipynb#ch0000003?line=6'>7</a>\u001b[0m     c, b \u001b[39m=\u001b[39m sol\u001b[39m.\u001b[39msol(t)\n\u001b[0;32m      <a href='vscode-notebook-cell:/c%3A/Users/andrz/DPOCN_project/K_Weron_article_fiddling/PA_model.ipynb#ch0000003?line=7'>8</a>\u001b[0m     Stable_states[i] \u001b[39m=\u001b[39m c[\u001b[39m-\u001b[39m\u001b[39m1\u001b[39m]\n",
      "File \u001b[1;32mc:\\Users\\andrz\\AppData\\Local\\Programs\\Python\\Python310\\lib\\site-packages\\scipy\\integrate\\_ivp\\ivp.py:580\u001b[0m, in \u001b[0;36msolve_ivp\u001b[1;34m(fun, t_span, y0, method, t_eval, dense_output, events, vectorized, args, **options)\u001b[0m\n\u001b[0;32m    <a href='file:///c%3A/Users/andrz/AppData/Local/Programs/Python/Python310/lib/site-packages/scipy/integrate/_ivp/ivp.py?line=577'>578</a>\u001b[0m status \u001b[39m=\u001b[39m \u001b[39mNone\u001b[39;00m\n\u001b[0;32m    <a href='file:///c%3A/Users/andrz/AppData/Local/Programs/Python/Python310/lib/site-packages/scipy/integrate/_ivp/ivp.py?line=578'>579</a>\u001b[0m \u001b[39mwhile\u001b[39;00m status \u001b[39mis\u001b[39;00m \u001b[39mNone\u001b[39;00m:\n\u001b[1;32m--> <a href='file:///c%3A/Users/andrz/AppData/Local/Programs/Python/Python310/lib/site-packages/scipy/integrate/_ivp/ivp.py?line=579'>580</a>\u001b[0m     message \u001b[39m=\u001b[39m solver\u001b[39m.\u001b[39;49mstep()\n\u001b[0;32m    <a href='file:///c%3A/Users/andrz/AppData/Local/Programs/Python/Python310/lib/site-packages/scipy/integrate/_ivp/ivp.py?line=581'>582</a>\u001b[0m     \u001b[39mif\u001b[39;00m solver\u001b[39m.\u001b[39mstatus \u001b[39m==\u001b[39m \u001b[39m'\u001b[39m\u001b[39mfinished\u001b[39m\u001b[39m'\u001b[39m:\n\u001b[0;32m    <a href='file:///c%3A/Users/andrz/AppData/Local/Programs/Python/Python310/lib/site-packages/scipy/integrate/_ivp/ivp.py?line=582'>583</a>\u001b[0m         status \u001b[39m=\u001b[39m \u001b[39m0\u001b[39m\n",
      "File \u001b[1;32mc:\\Users\\andrz\\AppData\\Local\\Programs\\Python\\Python310\\lib\\site-packages\\scipy\\integrate\\_ivp\\base.py:181\u001b[0m, in \u001b[0;36mOdeSolver.step\u001b[1;34m(self)\u001b[0m\n\u001b[0;32m    <a href='file:///c%3A/Users/andrz/AppData/Local/Programs/Python/Python310/lib/site-packages/scipy/integrate/_ivp/base.py?line=178'>179</a>\u001b[0m \u001b[39melse\u001b[39;00m:\n\u001b[0;32m    <a href='file:///c%3A/Users/andrz/AppData/Local/Programs/Python/Python310/lib/site-packages/scipy/integrate/_ivp/base.py?line=179'>180</a>\u001b[0m     t \u001b[39m=\u001b[39m \u001b[39mself\u001b[39m\u001b[39m.\u001b[39mt\n\u001b[1;32m--> <a href='file:///c%3A/Users/andrz/AppData/Local/Programs/Python/Python310/lib/site-packages/scipy/integrate/_ivp/base.py?line=180'>181</a>\u001b[0m     success, message \u001b[39m=\u001b[39m \u001b[39mself\u001b[39;49m\u001b[39m.\u001b[39;49m_step_impl()\n\u001b[0;32m    <a href='file:///c%3A/Users/andrz/AppData/Local/Programs/Python/Python310/lib/site-packages/scipy/integrate/_ivp/base.py?line=182'>183</a>\u001b[0m     \u001b[39mif\u001b[39;00m \u001b[39mnot\u001b[39;00m success:\n\u001b[0;32m    <a href='file:///c%3A/Users/andrz/AppData/Local/Programs/Python/Python310/lib/site-packages/scipy/integrate/_ivp/base.py?line=183'>184</a>\u001b[0m         \u001b[39mself\u001b[39m\u001b[39m.\u001b[39mstatus \u001b[39m=\u001b[39m \u001b[39m'\u001b[39m\u001b[39mfailed\u001b[39m\u001b[39m'\u001b[39m\n",
      "File \u001b[1;32mc:\\Users\\andrz\\AppData\\Local\\Programs\\Python\\Python310\\lib\\site-packages\\scipy\\integrate\\_ivp\\rk.py:144\u001b[0m, in \u001b[0;36mRungeKutta._step_impl\u001b[1;34m(self)\u001b[0m\n\u001b[0;32m    <a href='file:///c%3A/Users/andrz/AppData/Local/Programs/Python/Python310/lib/site-packages/scipy/integrate/_ivp/rk.py?line=140'>141</a>\u001b[0m h \u001b[39m=\u001b[39m t_new \u001b[39m-\u001b[39m t\n\u001b[0;32m    <a href='file:///c%3A/Users/andrz/AppData/Local/Programs/Python/Python310/lib/site-packages/scipy/integrate/_ivp/rk.py?line=141'>142</a>\u001b[0m h_abs \u001b[39m=\u001b[39m np\u001b[39m.\u001b[39mabs(h)\n\u001b[1;32m--> <a href='file:///c%3A/Users/andrz/AppData/Local/Programs/Python/Python310/lib/site-packages/scipy/integrate/_ivp/rk.py?line=143'>144</a>\u001b[0m y_new, f_new \u001b[39m=\u001b[39m rk_step(\u001b[39mself\u001b[39;49m\u001b[39m.\u001b[39;49mfun, t, y, \u001b[39mself\u001b[39;49m\u001b[39m.\u001b[39;49mf, h, \u001b[39mself\u001b[39;49m\u001b[39m.\u001b[39;49mA,\n\u001b[0;32m    <a href='file:///c%3A/Users/andrz/AppData/Local/Programs/Python/Python310/lib/site-packages/scipy/integrate/_ivp/rk.py?line=144'>145</a>\u001b[0m                        \u001b[39mself\u001b[39;49m\u001b[39m.\u001b[39;49mB, \u001b[39mself\u001b[39;49m\u001b[39m.\u001b[39;49mC, \u001b[39mself\u001b[39;49m\u001b[39m.\u001b[39;49mK)\n\u001b[0;32m    <a href='file:///c%3A/Users/andrz/AppData/Local/Programs/Python/Python310/lib/site-packages/scipy/integrate/_ivp/rk.py?line=145'>146</a>\u001b[0m scale \u001b[39m=\u001b[39m atol \u001b[39m+\u001b[39m np\u001b[39m.\u001b[39mmaximum(np\u001b[39m.\u001b[39mabs(y), np\u001b[39m.\u001b[39mabs(y_new)) \u001b[39m*\u001b[39m rtol\n\u001b[0;32m    <a href='file:///c%3A/Users/andrz/AppData/Local/Programs/Python/Python310/lib/site-packages/scipy/integrate/_ivp/rk.py?line=146'>147</a>\u001b[0m error_norm \u001b[39m=\u001b[39m \u001b[39mself\u001b[39m\u001b[39m.\u001b[39m_estimate_error_norm(\u001b[39mself\u001b[39m\u001b[39m.\u001b[39mK, h, scale)\n",
      "File \u001b[1;32mc:\\Users\\andrz\\AppData\\Local\\Programs\\Python\\Python310\\lib\\site-packages\\scipy\\integrate\\_ivp\\rk.py:64\u001b[0m, in \u001b[0;36mrk_step\u001b[1;34m(fun, t, y, f, h, A, B, C, K)\u001b[0m\n\u001b[0;32m     <a href='file:///c%3A/Users/andrz/AppData/Local/Programs/Python/Python310/lib/site-packages/scipy/integrate/_ivp/rk.py?line=61'>62</a>\u001b[0m \u001b[39mfor\u001b[39;00m s, (a, c) \u001b[39min\u001b[39;00m \u001b[39menumerate\u001b[39m(\u001b[39mzip\u001b[39m(A[\u001b[39m1\u001b[39m:], C[\u001b[39m1\u001b[39m:]), start\u001b[39m=\u001b[39m\u001b[39m1\u001b[39m):\n\u001b[0;32m     <a href='file:///c%3A/Users/andrz/AppData/Local/Programs/Python/Python310/lib/site-packages/scipy/integrate/_ivp/rk.py?line=62'>63</a>\u001b[0m     dy \u001b[39m=\u001b[39m np\u001b[39m.\u001b[39mdot(K[:s]\u001b[39m.\u001b[39mT, a[:s]) \u001b[39m*\u001b[39m h\n\u001b[1;32m---> <a href='file:///c%3A/Users/andrz/AppData/Local/Programs/Python/Python310/lib/site-packages/scipy/integrate/_ivp/rk.py?line=63'>64</a>\u001b[0m     K[s] \u001b[39m=\u001b[39m fun(t \u001b[39m+\u001b[39m c \u001b[39m*\u001b[39m h, y \u001b[39m+\u001b[39m dy)\n\u001b[0;32m     <a href='file:///c%3A/Users/andrz/AppData/Local/Programs/Python/Python310/lib/site-packages/scipy/integrate/_ivp/rk.py?line=65'>66</a>\u001b[0m y_new \u001b[39m=\u001b[39m y \u001b[39m+\u001b[39m h \u001b[39m*\u001b[39m np\u001b[39m.\u001b[39mdot(K[:\u001b[39m-\u001b[39m\u001b[39m1\u001b[39m]\u001b[39m.\u001b[39mT, B)\n\u001b[0;32m     <a href='file:///c%3A/Users/andrz/AppData/Local/Programs/Python/Python310/lib/site-packages/scipy/integrate/_ivp/rk.py?line=66'>67</a>\u001b[0m f_new \u001b[39m=\u001b[39m fun(t \u001b[39m+\u001b[39m h, y_new)\n",
      "\u001b[1;31mKeyboardInterrupt\u001b[0m: "
     ]
    }
   ],
   "source": [
    "P = linspace(0, 0.07, 100)\n",
    "t = linspace(0, 10000,  10000)\n",
    "Stable_states = ones(size(P))\n",
    "for i, p in enumerate(P):\n",
    "    X0 = array([0.999, 1 - 0.999])                 # initials conditions\n",
    "    sol = integrate.solve_ivp(dX_dt, [0, 10000], X0, args = [p], dense_output = True)\n",
    "    c, b = sol.sol(t)\n",
    "    Stable_states[i] = c[-1]"
   ]
  },
  {
   "cell_type": "markdown",
   "metadata": {},
   "source": [
    "trying to calculate c vs p"
   ]
  },
  {
   "cell_type": "code",
   "execution_count": 7,
   "metadata": {},
   "outputs": [
    {
     "data": {
      "text/plain": [
       "[<matplotlib.lines.Line2D at 0x1e6bff35840>]"
      ]
     },
     "execution_count": 7,
     "metadata": {},
     "output_type": "execute_result"
    },
    {
     "data": {
      "image/png": "[encoded data removed]",
      "text/plain": [
       "<Figure size 432x288 with 1 Axes>"
      ]
     },
     "metadata": {
      "needs_background": "light"
     },
     "output_type": "display_data"
    }
   ],
   "source": [
    "plt.plot(P, Stable_states)"
   ]
  },
  {
   "cell_type": "code",
   "execution_count": 13,
   "metadata": {},
   "outputs": [],
   "source": [
    "P = linspace(0, 0.07, 100)\n",
    "t = linspace(0, 10000,  10000)\n",
    "Stable_states = ones(size(P))\n",
    "for i, p in enumerate(P):\n",
    "    X0 = array([0.5001, 0.1])                 # initials conditions\n",
    "    sol = integrate.solve_ivp(dX_dt, [0, 10000], X0, args = [p], dense_output = True)\n",
    "    c, b = sol.sol(t)\n",
    "    Stable_states[i] = c[-1]"
   ]
  },
  {
   "cell_type": "code",
   "execution_count": 15,
   "metadata": {},
   "outputs": [
    {
     "data": {
      "text/plain": [
       "[<matplotlib.lines.Line2D at 0x1e6c0cd9180>]"
      ]
     },
     "execution_count": 15,
     "metadata": {},
     "output_type": "execute_result"
    },
    {
     "data": {
      "image/png": "[encoded data removed]",
      "text/plain": [
       "<Figure size 432x288 with 1 Axes>"
      ]
     },
     "metadata": {
      "needs_background": "light"
     },
     "output_type": "display_data"
    }
   ],
   "source": [
    "plt.plot(P, Stable_states)"
   ]
  },
  {
   "cell_type": "markdown",
   "metadata": {},
   "source": [
    "# Figure 2 PA model"
   ]
  },
  {
   "cell_type": "code",
   "execution_count": 4,
   "metadata": {},
   "outputs": [],
   "source": [
    "import scipy.optimize as optimize\n",
    "q_a = 4\n",
    "q_c = 10\n",
    "k = 50\n",
    "p = 0.03\n",
    "c_down = lambda c: 1 - c\n",
    "c_up = lambda c: c\n",
    "theta_down = lambda b, c: b / (2 * (1 - c))\n",
    "theta_up = lambda b, c: b / ((2 * c))"
   ]
  },
  {
   "cell_type": "code",
   "execution_count": 5,
   "metadata": {},
   "outputs": [],
   "source": [
    "def f(b):\n",
    "    eq1 = (1 - p) * (c_down(c) * theta_down(b, c) ** q_c - c_up(c) * theta_up(b ,c) ** q_c) + p * (c_down(c) * ( 1 - theta_down(b, c)) ** q_a - c_up(c) * (1 - theta_up(b, c)) ** q_a)\n",
    "    eq2 = 2 / k * (c_down(c) * ((1 - p) * theta_down(b, c) ** q_c * (k - 2 * q_c - 2 * (k - q_c) * theta_down(b, c)) + p * (1 - theta_down(b, c)) ** q_a * (k - 2 * (k - q_a) * theta_down(b, c))) + \n",
    "                        c_up(c) * ((1 - p) * theta_up(b, c) ** q_c * (k - 2 * q_c - 2 * (k - q_c) * theta_up(b, c)) + p * (1 - theta_up(b, c)) ** q_a * (k - 2 * (k - q_a) * theta_up(b, c))))\n",
    "    return eq2 - eq1"
   ]
  },
  {
   "cell_type": "code",
   "execution_count": 11,
   "metadata": {},
   "outputs": [
    {
     "name": "stderr",
     "output_type": "stream",
     "text": [
      "c:\\Users\\andrz\\AppData\\Local\\Programs\\Python\\Python310\\lib\\site-packages\\scipy\\optimize\\_minpack_py.py:175: RuntimeWarning: The number of calls to function has reached maxfev = 600.\n",
      "  warnings.warn(msg, RuntimeWarning)\n",
      "c:\\Users\\andrz\\AppData\\Local\\Programs\\Python\\Python310\\lib\\site-packages\\scipy\\optimize\\_minpack_py.py:175: RuntimeWarning: The iteration is not making good progress, as measured by the \n",
      "  improvement from the last ten iterations.\n",
      "  warnings.warn(msg, RuntimeWarning)\n",
      "c:\\Users\\andrz\\AppData\\Local\\Programs\\Python\\Python310\\lib\\site-packages\\scipy\\optimize\\_minpack_py.py:175: RuntimeWarning: The iteration is not making good progress, as measured by the \n",
      "  improvement from the last five Jacobian evaluations.\n",
      "  warnings.warn(msg, RuntimeWarning)\n"
     ]
    },
    {
     "data": {
      "text/plain": [
       "[<matplotlib.lines.Line2D at 0x1fe32751de0>]"
      ]
     },
     "execution_count": 11,
     "metadata": {},
     "output_type": "execute_result"
    },
    {
     "data": {
      "image/png": "[encoded data removed]",
      "text/plain": [
       "<Figure size 432x288 with 1 Axes>"
      ]
     },
     "metadata": {
      "needs_background": "light"
     },
     "output_type": "display_data"
    }
   ],
   "source": [
    "P = ones(10000)\n",
    "for i, c in enumerate(linspace(0.5001, 0.9999, 10000)):\n",
    "    def equations(vars):\n",
    "        p, b = vars\n",
    "        eq1 = (1 - p) * (c_down(c) * theta_down(b, c) ** q_c - c_up(c) * theta_up(b ,c) ** q_c) + p * (c_down(c) * ( 1 - theta_down(b, c)) ** q_a - c_up(c) * (1 - theta_up(b, c)) ** q_a)\n",
    "        eq2 = 2 / k * (c_down(c) * ((1 - p) * theta_down(b, c) ** q_c * (k - 2 * q_c - 2 * (k - q_c) * theta_down(b, c)) + p * (1 - theta_down(b, c)) ** q_a * (k - 2 * (k - q_a) * theta_down(b, c))) + \n",
    "                            c_up(c) * ((1 - p) * theta_up(b, c) ** q_c * (k - 2 * q_c - 2 * (k - q_c) * theta_up(b, c)) + p * (1 - theta_up(b, c)) ** q_a * (k - 2 * (k - q_a) * theta_up(b, c))))\n",
    "        return [eq1, eq2]\n",
    "    P[i], _ =  fsolve(equations, (0.055, 0.45))\n",
    "\n",
    "P_bis = copy(P)\n",
    "\n",
    "a = pd.Series(P_bis)\n",
    "a[a < 0.01] = nan\n",
    "a[a > 0.5] = nan\n",
    "a = a.interpolate(method='polynomial', order=2)\n",
    "\n",
    "P_bis = a.to_numpy()\n",
    "plt.plot(P_bis, linspace(0.5001, 0.9999, 10000))"
   ]
  },
  {
   "cell_type": "markdown",
   "metadata": {},
   "source": [
    "# Figure 2 right panel"
   ]
  },
  {
   "cell_type": "code",
   "execution_count": 37,
   "metadata": {},
   "outputs": [],
   "source": [
    "q_a = 4\n",
    "q_c = 10\n",
    "k = 150"
   ]
  },
  {
   "cell_type": "code",
   "execution_count": 40,
   "metadata": {},
   "outputs": [
    {
     "name": "stderr",
     "output_type": "stream",
     "text": [
      "c:\\Users\\andrz\\AppData\\Local\\Programs\\Python\\Python310\\lib\\site-packages\\scipy\\optimize\\_minpack_py.py:175: RuntimeWarning: The number of calls to function has reached maxfev = 600.\n",
      "  warnings.warn(msg, RuntimeWarning)\n"
     ]
    },
    {
     "data": {
      "text/plain": [
       "[<matplotlib.lines.Line2D at 0x1e6c22c4ee0>]"
      ]
     },
     "execution_count": 40,
     "metadata": {},
     "output_type": "execute_result"
    },
    {
     "data": {
      "image/png": "[encoded data removed]",
      "text/plain": [
       "<Figure size 432x288 with 1 Axes>"
      ]
     },
     "metadata": {
      "needs_background": "light"
     },
     "output_type": "display_data"
    }
   ],
   "source": [
    "P = ones(1000)\n",
    "for i, c in enumerate(linspace(0.5001, 0.9, 1000)):\n",
    "    def equations(vars):\n",
    "        p, b = vars\n",
    "        eq1 = (1 - p) * (c_down(c) * theta_down(b, c) ** q_c - c_up(c) * theta_up(b ,c) ** q_c) + p * (c_down(c) * ( 1 - theta_down(b, c)) ** q_a - c_up(c) * (1 - theta_up(b, c)) ** q_a)\n",
    "        eq2 = 2 / k * (c_down(c) * ((1 - p) * theta_down(b, c) ** q_c * (k - 2 * q_c - 2 * (k - q_c) * theta_down(b, c)) + p * (1 - theta_down(b, c)) ** q_a * (k - 2 * (k - q_a) * theta_down(b, c))) + \n",
    "                            c_up(c) * ((1 - p) * theta_up(b, c) ** q_c * (k - 2 * q_c - 2 * (k - q_c) * theta_up(b, c)) + p * (1 - theta_up(b, c)) ** q_a * (k - 2 * (k - q_a) * theta_up(b, c))))\n",
    "        return [eq1, eq2]\n",
    "    P[i], _ =  fsolve(equations, (0.055, 0.45))\n",
    "\n",
    "P_bis = copy(P)\n",
    "\n",
    "a = pd.Series(P_bis)\n",
    "a[a < 0.01] = nan\n",
    "a = a.interpolate(method='polynomial', order=2)\n",
    "\n",
    "P_bis = a.to_numpy()\n",
    "plt.plot(P_bis, linspace(0.5001, 0.9, 1000))"
   ]
  },
  {
   "cell_type": "markdown",
   "metadata": {},
   "source": [
    "# Figure 3"
   ]
  },
  {
   "cell_type": "code",
   "execution_count": 41,
   "metadata": {},
   "outputs": [],
   "source": [
    "q_a = 10\n",
    "q_c = 10\n",
    "k = 50"
   ]
  },
  {
   "cell_type": "code",
   "execution_count": 48,
   "metadata": {},
   "outputs": [
    {
     "data": {
      "text/plain": [
       "(0.34, 0.4)"
      ]
     },
     "execution_count": 48,
     "metadata": {},
     "output_type": "execute_result"
    },
    {
     "data": {
      "image/png": "[encoded data removed]",
      "text/plain": [
       "<Figure size 432x288 with 1 Axes>"
      ]
     },
     "metadata": {
      "needs_background": "light"
     },
     "output_type": "display_data"
    }
   ],
   "source": [
    "P = ones(1000)\n",
    "for i, c in enumerate(linspace(0.5001, 0.7, 1000)):\n",
    "    def equations(vars):\n",
    "        p, b = vars\n",
    "        eq1 = (1 - p) * (c_down(c) * theta_down(b, c) ** q_c - c_up(c) * theta_up(b ,c) ** q_c) + p * (c_down(c) * ( 1 - theta_down(b, c)) ** q_a - c_up(c) * (1 - theta_up(b, c)) ** q_a)\n",
    "        eq2 = 2 / k * (c_down(c) * ((1 - p) * theta_down(b, c) ** q_c * (k - 2 * q_c - 2 * (k - q_c) * theta_down(b, c)) + p * (1 - theta_down(b, c)) ** q_a * (k - 2 * (k - q_a) * theta_down(b, c))) + \n",
    "                            c_up(c) * ((1 - p) * theta_up(b, c) ** q_c * (k - 2 * q_c - 2 * (k - q_c) * theta_up(b, c)) + p * (1 - theta_up(b, c)) ** q_a * (k - 2 * (k - q_a) * theta_up(b, c))))\n",
    "        return [eq1, eq2]\n",
    "    P[i], _ =  fsolve(equations, (0.38, 0.45))\n",
    "\n",
    "P_bis = copy(P)\n",
    "\n",
    "a = pd.Series(P_bis)\n",
    "a[a < 0.01] = nan\n",
    "a = a.interpolate(method='polynomial', order=2)\n",
    "\n",
    "P_bis = a.to_numpy()\n",
    "plt.plot(P_bis, linspace(0.5001, 0.7, 1000))\n",
    "plt.xlim((0.34, 0.4))"
   ]
  },
  {
   "cell_type": "markdown",
   "metadata": {},
   "source": [
    "# Figure 3 right panel "
   ]
  },
  {
   "cell_type": "code",
   "execution_count": 49,
   "metadata": {},
   "outputs": [],
   "source": [
    "q_a = 10\n",
    "q_c = 10\n",
    "k = 150"
   ]
  },
  {
   "cell_type": "code",
   "execution_count": 51,
   "metadata": {},
   "outputs": [
    {
     "data": {
      "text/plain": [
       "(0.34, 0.44)"
      ]
     },
     "execution_count": 51,
     "metadata": {},
     "output_type": "execute_result"
    },
    {
     "data": {
      "image/png": "[encoded data removed]",
      "text/plain": [
       "<Figure size 432x288 with 1 Axes>"
      ]
     },
     "metadata": {
      "needs_background": "light"
     },
     "output_type": "display_data"
    }
   ],
   "source": [
    "P = ones(1000)\n",
    "for i, c in enumerate(linspace(0.5001, 0.7, 1000)):\n",
    "    def equations(vars):\n",
    "        p, b = vars\n",
    "        eq1 = (1 - p) * (c_down(c) * theta_down(b, c) ** q_c - c_up(c) * theta_up(b ,c) ** q_c) + p * (c_down(c) * ( 1 - theta_down(b, c)) ** q_a - c_up(c) * (1 - theta_up(b, c)) ** q_a)\n",
    "        eq2 = 2 / k * (c_down(c) * ((1 - p) * theta_down(b, c) ** q_c * (k - 2 * q_c - 2 * (k - q_c) * theta_down(b, c)) + p * (1 - theta_down(b, c)) ** q_a * (k - 2 * (k - q_a) * theta_down(b, c))) + \n",
    "                            c_up(c) * ((1 - p) * theta_up(b, c) ** q_c * (k - 2 * q_c - 2 * (k - q_c) * theta_up(b, c)) + p * (1 - theta_up(b, c)) ** q_a * (k - 2 * (k - q_a) * theta_up(b, c))))\n",
    "        return [eq1, eq2]\n",
    "    P[i], _ =  fsolve(equations, (0.38, 0.45))\n",
    "\n",
    "P_bis = copy(P)\n",
    "\n",
    "a = pd.Series(P_bis)\n",
    "a[a < 0.01] = nan\n",
    "a = a.interpolate(method='polynomial', order=2)\n",
    "\n",
    "P_bis = a.to_numpy()\n",
    "plt.plot(P_bis, linspace(0.5001, 0.7, 1000))\n",
    "plt.xlim((0.34, 0.44))"
   ]
  },
  {
   "cell_type": "markdown",
   "metadata": {},
   "source": [
    "# Figure 5"
   ]
  },
  {
   "cell_type": "code",
   "execution_count": 2,
   "metadata": {},
   "outputs": [],
   "source": [
    "q_a = 13\n",
    "q_c = 10\n",
    "k = 50"
   ]
  },
  {
   "cell_type": "code",
   "execution_count": 9,
   "metadata": {},
   "outputs": [
    {
     "data": {
      "text/plain": [
       "(0.75, 0.85)"
      ]
     },
     "execution_count": 9,
     "metadata": {},
     "output_type": "execute_result"
    },
    {
     "data": {
      "image/png": "[encoded data removed]",
      "text/plain": [
       "<Figure size 432x288 with 1 Axes>"
      ]
     },
     "metadata": {
      "needs_background": "light"
     },
     "output_type": "display_data"
    }
   ],
   "source": [
    "P = ones(1000)\n",
    "for i, c in enumerate(linspace(0.5001, 0.57, 1000)):\n",
    "    def equations(vars):\n",
    "        p, b = vars\n",
    "        eq1 = (1 - p) * (c_down(c) * theta_down(b, c) ** q_c - c_up(c) * theta_up(b ,c) ** q_c) + p * (c_down(c) * ( 1 - theta_down(b, c)) ** q_a - c_up(c) * (1 - theta_up(b, c)) ** q_a)\n",
    "        eq2 = 2 / k * (c_down(c) * ((1 - p) * theta_down(b, c) ** q_c * (k - 2 * q_c - 2 * (k - q_c) * theta_down(b, c)) + p * (1 - theta_down(b, c)) ** q_a * (k - 2 * (k - q_a) * theta_down(b, c))) + \n",
    "                            c_up(c) * ((1 - p) * theta_up(b, c) ** q_c * (k - 2 * q_c - 2 * (k - q_c) * theta_up(b, c)) + p * (1 - theta_up(b, c)) ** q_a * (k - 2 * (k - q_a) * theta_up(b, c))))\n",
    "        return [eq1, eq2]\n",
    "    P[i], _ =  fsolve(equations, (0.38, 0.45))\n",
    "\n",
    "P_bis = copy(P)\n",
    "\n",
    "a = pd.Series(P_bis)\n",
    "a[a < 0.01] = nan\n",
    "a = a.interpolate(method='polynomial', order=2)\n",
    "\n",
    "P_bis = a.to_numpy()\n",
    "plt.plot(P_bis, linspace(0.5001, 0.57, 1000))\n",
    "plt.xlim((0.75, 0.85))"
   ]
  },
  {
   "cell_type": "code",
   "execution_count": 10,
   "metadata": {},
   "outputs": [
    {
     "data": {
      "text/plain": [
       "array([0.7697027 , 0.76970346, 0.76970462, 0.76970618, 0.76970813,\n",
       "       0.76971048, 0.76971322, 0.76971636, 0.7697199 , 0.76972383,\n",
       "       0.76972816, 0.76973288, 0.769738  , 0.76974351, 0.76974942,\n",
       "       0.76975573, 0.76976243, 0.76976952, 0.76977701, 0.7697849 ,\n",
       "       0.76979318, 0.76980186, 0.76981093, 0.76982039, 0.76983025,\n",
       "       0.7698405 , 0.76985115, 0.76986219, 0.76987362, 0.76988545,\n",
       "       0.76989767, 0.76991029, 0.7699233 , 0.7699367 , 0.76995049,\n",
       "       0.76996467, 0.76997925, 0.76999422, 0.77000958, 0.77002534,\n",
       "       0.77004148, 0.77005801, 0.77007494, 0.77009226, 0.77010996,\n",
       "       0.77012806, 0.77014655, 0.77016542, 0.77018469, 0.77020434,\n",
       "       0.77022438, 0.77024482, 0.77026563, 0.77028684, 0.77030844,\n",
       "       0.77033042, 0.77035278, 0.77037554, 0.77039868, 0.77042221,\n",
       "       0.77044612, 0.77047041, 0.7704951 , 0.77052016, 0.77054561,\n",
       "       0.77057144, 0.77059766, 0.77062426, 0.77065124, 0.7706786 ,\n",
       "       0.77070635, 0.77073448, 0.77076298, 0.77079187, 0.77082114,\n",
       "       0.77085079, 0.77088081, 0.77091122, 0.770942  , 0.77097316,\n",
       "       0.7710047 , 0.77103661, 0.7710689 , 0.77110157, 0.77113461,\n",
       "       0.77116803, 0.77120182, 0.77123599, 0.77127052, 0.77130544,\n",
       "       0.77134072, 0.77137638, 0.7714124 , 0.7714488 , 0.77148557,\n",
       "       0.77152271, 0.77156021, 0.77159809, 0.77163633, 0.77167494,\n",
       "       0.77171392, 0.77175327, 0.77179298, 0.77183305, 0.77187349,\n",
       "       0.7719143 , 0.77195547, 0.771997  , 0.77203889, 0.77208114,\n",
       "       0.77212376, 0.77216673, 0.77221007, 0.77225376, 0.77229782,\n",
       "       0.77234223, 0.77238699, 0.77243212, 0.7724776 , 0.77252343,\n",
       "       0.77256962, 0.77261617, 0.77266306, 0.77271031, 0.77275791,\n",
       "       0.77280587, 0.77285417, 0.77290282, 0.77295182, 0.77300117,\n",
       "       0.77305087, 0.77310091, 0.7731513 , 0.77320204, 0.77325312,\n",
       "       0.77330454, 0.77335631, 0.77340842, 0.77346087, 0.77351366,\n",
       "       0.77356679, 0.77362026, 0.77367407, 0.77372822, 0.77378271,\n",
       "       0.77383753, 0.77389268, 0.77394817, 0.774004  , 0.77406016,\n",
       "       0.77411665, 0.77417347, 0.77423062, 0.7742881 , 0.77434591,\n",
       "       0.77440405, 0.77446252, 0.77452131, 0.77458043, 0.77463987,\n",
       "       0.77469964, 0.77475972, 0.77482014, 0.77488087, 0.77494192,\n",
       "       0.7750033 , 0.77506499, 0.775127  , 0.77518932, 0.77525196,\n",
       "       0.77531492, 0.77537819, 0.77544178, 0.77550567, 0.77556988,\n",
       "       0.7756344 , 0.77569923, 0.77576436, 0.77582981, 0.77589556,\n",
       "       0.77596162, 0.77602798, 0.77609465, 0.77616162, 0.77622889,\n",
       "       0.77629646, 0.77636433, 0.77643251, 0.77650098, 0.77656974,\n",
       "       0.77663881, 0.77670817, 0.77677782, 0.77684777, 0.77691801,\n",
       "       0.77698854, 0.77705936, 0.77713047, 0.77720187, 0.77727355,\n",
       "       0.77734553, 0.77741778, 0.77749033, 0.77756315, 0.77763626,\n",
       "       0.77770965, 0.77778332, 0.77785727, 0.77793149, 0.778006  ,\n",
       "       0.77808078, 0.77815583, 0.77823116, 0.77830676, 0.77838264,\n",
       "       0.77845878, 0.77853519, 0.77861188, 0.77868883, 0.77876604,\n",
       "       0.77884353, 0.77892127, 0.77899928, 0.77907756, 0.77915609,\n",
       "       0.77923488, 0.77931394, 0.77939325, 0.77947281, 0.77955264,\n",
       "       0.77963271, 0.77971304, 0.77979363, 0.77987446, 0.77995554,\n",
       "       0.78003688, 0.78011846, 0.78020029, 0.78028236, 0.78036468,\n",
       "       0.78044724, 0.78053004, 0.78061309, 0.78069637, 0.7807799 ,\n",
       "       0.78086366, 0.78094765, 0.78103189, 0.78111635, 0.78120106,\n",
       "       0.78128599, 0.78137115, 0.78145654, 0.78154216, 0.78162801,\n",
       "       0.78171409, 0.78180039, 0.78188691, 0.78197365, 0.78206062,\n",
       "       0.78214781, 0.78223522, 0.78232284, 0.78241068, 0.78249874,\n",
       "       0.78258701, 0.78267549, 0.78276419, 0.78285309, 0.78294221,\n",
       "       0.78303154, 0.78312107, 0.78321081, 0.78330075, 0.78339089,\n",
       "       0.78348124, 0.78357179, 0.78366254, 0.78375349, 0.78384464,\n",
       "       0.78393598, 0.78402752, 0.78411925, 0.78421117, 0.78430329,\n",
       "       0.78439559, 0.78448809, 0.78458077, 0.78467364, 0.7847667 ,\n",
       "       0.78485993, 0.78495336, 0.78504696, 0.78514074, 0.78523471,\n",
       "       0.78532885, 0.78542316, 0.78551766, 0.78561232, 0.78570717,\n",
       "       0.78580218, 0.78589736, 0.78599271, 0.78608823, 0.78618392,\n",
       "       0.78627977, 0.78637579, 0.78647197, 0.78656831, 0.78666482,\n",
       "       0.78676148, 0.7868583 , 0.78695528, 0.78705241, 0.78714969,\n",
       "       0.78724714, 0.78734473, 0.78744247, 0.78754036, 0.7876384 ,\n",
       "       0.78773659, 0.78783492, 0.7879334 , 0.78803202, 0.78813078,\n",
       "       0.78822969, 0.78832873, 0.78842791, 0.78852722, 0.78862668,\n",
       "       0.78872626, 0.78882598, 0.78892584, 0.78902582, 0.78912593,\n",
       "       0.78922617, 0.78932654, 0.78942703, 0.78952764, 0.78962838,\n",
       "       0.78972924, 0.78983023, 0.78993133, 0.79003254, 0.79013388,\n",
       "       0.79023533, 0.7903369 , 0.79043857, 0.79054036, 0.79064226,\n",
       "       0.79074427, 0.79084639, 0.79094861, 0.79105094, 0.79115337,\n",
       "       0.79125591, 0.79135855, 0.79146129, 0.79156412, 0.79166706,\n",
       "       0.79177009, 0.79187322, 0.79197644, 0.79207975, 0.79218316,\n",
       "       0.79228665, 0.79239024, 0.79249391, 0.79259767, 0.79270151,\n",
       "       0.79280544, 0.79290945, 0.79301355, 0.79311772, 0.79322197,\n",
       "       0.7933263 , 0.79343071, 0.79353519, 0.79363975, 0.79374438,\n",
       "       0.79384908, 0.79395385, 0.79405869, 0.7941636 , 0.79426857,\n",
       "       0.79437361, 0.79447872, 0.79458388, 0.79468911, 0.7947944 ,\n",
       "       0.79489975, 0.79500516, 0.79511062, 0.79521614, 0.79532172,\n",
       "       0.79542734, 0.79553302, 0.79563875, 0.79574453, 0.79585036,\n",
       "       0.79595623, 0.79606215, 0.79616812, 0.79627412, 0.79638018,\n",
       "       0.79648627, 0.7965924 , 0.79669857, 0.79680477, 0.79691102,\n",
       "       0.79701729, 0.79712361, 0.79722995, 0.79733633, 0.79744273,\n",
       "       0.79754917, 0.79765563, 0.79776212, 0.79786863, 0.79797517,\n",
       "       0.79808173, 0.79818831, 0.79829492, 0.79840154, 0.79850818,\n",
       "       0.79861484, 0.79872151, 0.7988282 , 0.7989349 , 0.79904162,\n",
       "       0.79914834, 0.79925508, 0.79936183, 0.79946858, 0.79957534,\n",
       "       0.7996821 , 0.79978887, 0.79989564, 0.80000241, 0.80010919,\n",
       "       0.80021596, 0.80032273, 0.8004295 , 0.80053627, 0.80064303,\n",
       "       0.80074978, 0.80085653, 0.80096327, 0.80107   , 0.80117672,\n",
       "       0.80128343, 0.80139012, 0.8014968 , 0.80160346, 0.80171011,\n",
       "       0.80181674, 0.80192336, 0.80202995, 0.80213652, 0.80224307,\n",
       "       0.8023496 , 0.8024561 , 0.80256258, 0.80266903, 0.80277546,\n",
       "       0.80288185, 0.80298822, 0.80309456, 0.80320086, 0.80330713,\n",
       "       0.80341337, 0.80351957, 0.80362574, 0.80373187, 0.80383796,\n",
       "       0.80394401, 0.80405002, 0.80415599, 0.80426192, 0.80436781,\n",
       "       0.80447365, 0.80457944, 0.80468519, 0.80479089, 0.80489654,\n",
       "       0.80500214, 0.80510769, 0.80521319, 0.80531864, 0.80542403,\n",
       "       0.80552937, 0.80563465, 0.80573987, 0.80584504, 0.80595015,\n",
       "       0.8060552 , 0.80616018, 0.80626511, 0.80636997, 0.80647477,\n",
       "       0.8065795 , 0.80668416, 0.80678876, 0.80689329, 0.80699776,\n",
       "       0.80710215, 0.80720647, 0.80731072, 0.80741489, 0.807519  ,\n",
       "       0.80762302, 0.80772698, 0.80783085, 0.80793465, 0.80803837,\n",
       "       0.808142  , 0.80824556, 0.80834904, 0.80845243, 0.80855574,\n",
       "       0.80865897, 0.80876211, 0.80886517, 0.80896813, 0.80907101,\n",
       "       0.8091738 , 0.8092765 , 0.80937911, 0.80948163, 0.80958405,\n",
       "       0.80968639, 0.80978862, 0.80989076, 0.80999281, 0.81009476,\n",
       "       0.81019661, 0.81029836, 0.81040001, 0.81050156, 0.81060301,\n",
       "       0.81070435, 0.81080559, 0.81090673, 0.81100776, 0.81110869,\n",
       "       0.81120951, 0.81131022, 0.81141083, 0.81151132, 0.81161171,\n",
       "       0.81171198, 0.81181214, 0.81191219, 0.81201213, 0.81211195,\n",
       "       0.81221165, 0.81231124, 0.81241071, 0.81251007, 0.8126093 ,\n",
       "       0.81270842, 0.81280741, 0.81290629, 0.81300504, 0.81310367,\n",
       "       0.81320218, 0.81330057, 0.81339882, 0.81349696, 0.81359496,\n",
       "       0.81369284, 0.81379059, 0.81388822, 0.81398571, 0.81408307,\n",
       "       0.8141803 , 0.8142774 , 0.81437437, 0.8144712 , 0.8145679 ,\n",
       "       0.81466447, 0.81476089, 0.81485719, 0.81495334, 0.81504936,\n",
       "       0.81514524, 0.81524098, 0.81533658, 0.81543204, 0.81552736,\n",
       "       0.81562253, 0.81571756, 0.81581245, 0.8159072 , 0.8160018 ,\n",
       "       0.81609625, 0.81619056, 0.81628472, 0.81637873, 0.8164726 ,\n",
       "       0.81656632, 0.81665988, 0.8167533 , 0.81684656, 0.81693968,\n",
       "       0.81703264, 0.81712545, 0.8172181 , 0.8173106 , 0.81740294,\n",
       "       0.81749513, 0.81758717, 0.81767904, 0.81777076, 0.81786232,\n",
       "       0.81795372, 0.81804497, 0.81813605, 0.81822697, 0.81831773,\n",
       "       0.81840833, 0.81849877, 0.81858904, 0.81867915, 0.81876909,\n",
       "       0.81885887, 0.81894849, 0.81903794, 0.81912722, 0.81921634,\n",
       "       0.81930528, 0.81939406, 0.81948267, 0.81957111, 0.81965938,\n",
       "       0.81974748, 0.81983541, 0.81992317, 0.82001075, 0.82009817,\n",
       "       0.8201854 , 0.82027247, 0.82035936, 0.82044608, 0.82053262,\n",
       "       0.82061898, 0.82070517, 0.82079118, 0.82087701, 0.82096267,\n",
       "       0.82104814, 0.82113344, 0.82121856, 0.8213035 , 0.82138825,\n",
       "       0.82147283, 0.82155722, 0.82164144, 0.82172546, 0.82180931,\n",
       "       0.82189297, 0.82197645, 0.82205975, 0.82214286, 0.82222578,\n",
       "       0.82230852, 0.82239107, 0.82247344, 0.82255562, 0.82263761,\n",
       "       0.82271941, 0.82280103, 0.82288245, 0.82296369, 0.82304473,\n",
       "       0.82312559, 0.82320625, 0.82328673, 0.82336701, 0.8234471 ,\n",
       "       0.823527  , 0.8236067 , 0.82368621, 0.82376553, 0.82384466,\n",
       "       0.82392358, 0.82400232, 0.82408086, 0.8241592 , 0.82423735,\n",
       "       0.8243153 , 0.82439306, 0.82447062, 0.82454798, 0.82462514,\n",
       "       0.8247021 , 0.82477887, 0.82485543, 0.8249318 , 0.82500797,\n",
       "       0.82508394, 0.8251597 , 0.82523527, 0.82531064, 0.8253858 ,\n",
       "       0.82546076, 0.82553552, 0.82561008, 0.82568443, 0.82575858,\n",
       "       0.82583253, 0.82590628, 0.82597982, 0.82605315, 0.82612628,\n",
       "       0.82619921, 0.82627193, 0.82634445, 0.82641675, 0.82648886,\n",
       "       0.82656075, 0.82663244, 0.82670393, 0.8267752 , 0.82684627,\n",
       "       0.82691713, 0.82698778, 0.82705822, 0.82712846, 0.82719848,\n",
       "       0.8272683 , 0.8273379 , 0.8274073 , 0.82747648, 0.82754546,\n",
       "       0.82761422, 0.82768278, 0.82775112, 0.82781925, 0.82788717,\n",
       "       0.82795488, 0.82802237, 0.82808966, 0.82815673, 0.82822358,\n",
       "       0.82829023, 0.82835666, 0.82842288, 0.82848888, 0.82855467,\n",
       "       0.82862025, 0.82868561, 0.82875075, 0.82881569, 0.8288804 ,\n",
       "       0.82894491, 0.82900919, 0.82907326, 0.82913712, 0.82920076,\n",
       "       0.82926418, 0.82932739, 0.82939037, 0.82945315, 0.8295157 ,\n",
       "       0.82957804, 0.82964016, 0.82970207, 0.82976375, 0.82982522,\n",
       "       0.82988647, 0.82994751, 0.83000832, 0.83006891, 0.83012929,\n",
       "       0.83018945, 0.83024939, 0.83030911, 0.83036861, 0.83042789,\n",
       "       0.83048695, 0.83054579, 0.83060442, 0.83066282, 0.830721  ,\n",
       "       0.83077896, 0.8308367 , 0.83089423, 0.83095153, 0.83100861,\n",
       "       0.83106547, 0.8311221 , 0.83117852, 0.83123472, 0.83129069,\n",
       "       0.83134644, 0.83140197, 0.83145728, 0.83151237, 0.83156724,\n",
       "       0.83162188, 0.8316763 , 0.8317305 , 0.83178448, 0.83183824,\n",
       "       0.83189177, 0.83194508, 0.83199817, 0.83205103, 0.83210367,\n",
       "       0.83215609, 0.83220829, 0.83226026, 0.83231201, 0.83236354,\n",
       "       0.83241484, 0.83246592, 0.83251678, 0.83256741, 0.83261782,\n",
       "       0.83266801, 0.83271797, 0.83276771, 0.83281723, 0.83286652,\n",
       "       0.83291559, 0.83296443, 0.83301305, 0.83306145, 0.83310962,\n",
       "       0.83315757, 0.83320529, 0.83325279, 0.83330007, 0.83334712,\n",
       "       0.83339395, 0.83344055, 0.83348693, 0.83353308, 0.83357901,\n",
       "       0.83362472, 0.8336702 , 0.83371546, 0.83376049, 0.8338053 ,\n",
       "       0.83384988, 0.83389424, 0.83393838, 0.83398228, 0.83402597,\n",
       "       0.83406943, 0.83411267, 0.83415568, 0.83419847, 0.83424103,\n",
       "       0.83428337, 0.83432548, 0.83436737, 0.83440903, 0.83445047,\n",
       "       0.83449169, 0.83453268, 0.83457345, 0.83461399, 0.83465431,\n",
       "       0.8346944 , 0.83473427, 0.83477391, 0.83481333, 0.83485253,\n",
       "       0.8348915 , 0.83493025, 0.83496877, 0.83500707, 0.83504514,\n",
       "       0.83508299, 0.83512062, 0.83515802, 0.8351952 , 0.83523215,\n",
       "       0.83526888, 0.83530539, 0.83534167, 0.83537772, 0.83541356,\n",
       "       0.83544917, 0.83548455, 0.83551972, 0.83555466, 0.83558937,\n",
       "       0.83562386, 0.83565813, 0.83569217, 0.835726  , 0.83575959,\n",
       "       0.83579297, 0.83582612, 0.83585905, 0.83589175, 0.83592423,\n",
       "       0.83595649, 0.83598853, 0.83602034, 0.83605193, 0.8360833 ,\n",
       "       0.83611444, 0.83614537, 0.83617607, 0.83620654, 0.8362368 ,\n",
       "       0.83626683, 0.83629664, 0.83632623, 0.8363556 , 0.83638474,\n",
       "       0.83641366, 0.83644237, 0.83647084, 0.8364991 , 0.83652714,\n",
       "       0.83655495, 0.83658255, 0.83660992, 0.83663707, 0.836664  ,\n",
       "       0.83669071, 0.83671719, 0.83674346, 0.83676951, 0.83679533,\n",
       "       0.83682094, 0.83684632, 0.83687149, 0.83689643, 0.83692115,\n",
       "       0.83694566, 0.83696994, 0.836994  , 0.83701785, 0.83704147,\n",
       "       0.83706488, 0.83708806, 0.83711103, 0.83713378, 0.83715631,\n",
       "       0.83717862, 0.83720071, 0.83722258, 0.83724423, 0.83726567,\n",
       "       0.83728688, 0.83730788, 0.83732866, 0.83734922, 0.83736957,\n",
       "       0.83738969, 0.8374096 , 0.83742929, 0.83744876, 0.83746802,\n",
       "       0.83748706, 0.83750588, 0.83752449, 0.83754287, 0.83756105,\n",
       "       0.837579  , 0.83759674, 0.83761426, 0.83763157, 0.83764866,\n",
       "       0.83766553, 0.83768219, 0.83769863, 0.83771486, 0.83773087,\n",
       "       0.83774667, 0.83776225, 0.83777762, 0.83779277, 0.83780771,\n",
       "       0.83782243, 0.83783694, 0.83785123, 0.83786531, 0.83787918,\n",
       "       0.83789283, 0.83790627, 0.83791949, 0.83793251, 0.8379453 ,\n",
       "       0.83795789, 0.83797026, 0.83798242, 0.83799437, 0.8380061 ,\n",
       "       0.83801762, 0.83802893, 0.83804003, 0.83805092, 0.83806159])"
      ]
     },
     "execution_count": 10,
     "metadata": {},
     "output_type": "execute_result"
    }
   ],
   "source": [
    "P_bis"
   ]
  }
 ],
 "metadata": {
  "interpreter": {
   "hash": "d38922d36489c8af6ee2b2d50f32a85ff90f4f0643b51da8d07090b2c64ad6eb"
  },
  "kernelspec": {
   "display_name": "Python 3.10.1 64-bit",
   "language": "python",
   "name": "python3"
  },
  "language_info": {
   "codemirror_mode": {
    "name": "ipython",
    "version": 3
   },
   "file_extension": ".py",
   "mimetype": "text/x-python",
   "name": "python",
   "nbconvert_exporter": "python",
   "pygments_lexer": "ipython3",
   "version": "3.10.1"
  },
  "orig_nbformat": 4
 },
 "nbformat": 4,
 "nbformat_minor": 2
}
