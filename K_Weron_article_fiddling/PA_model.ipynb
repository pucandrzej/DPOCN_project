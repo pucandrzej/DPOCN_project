{
 "cells": [
  {
   "cell_type": "code",
   "execution_count": 2,
   "metadata": {},
   "outputs": [],
   "source": [
    "from numpy import *\n",
    "import pylab\n",
    "from scipy import integrate\n",
    "import matplotlib.pyplot as plt\n",
    "import pandas as pd"
   ]
  },
  {
   "cell_type": "markdown",
   "metadata": {},
   "source": [
    "Attempt to solve the PA model differential equations system."
   ]
  },
  {
   "cell_type": "code",
   "execution_count": 2,
   "metadata": {},
   "outputs": [],
   "source": [
    "# Definition of parameters\n",
    "p = 0.01\n",
    "k = 40\n",
    "q = 8\n",
    "c_down = lambda c: 1 - c\n",
    "c_up = lambda c: c\n",
    "theta_down = lambda b, c: b / (2 * (1 - c))\n",
    "theta_up = lambda b, c: b / ((2 * c))\n",
    "def dX_dt(t, X):\n",
    "    c = X[0]\n",
    "    b = X[1]\n",
    "    return array([ (1 - p) * (c_down(c) * theta_down(b, c) ** q - c_up(c) * theta_up(b, c) ** q) + p / 2 * (c_down(c) - c_up(c)) ,\n",
    "                    2 / k * (c_down(c) * ((1 - p) * theta_down(b, c) ** q * (k - 2 * q - 2 * (k - q) * theta_down(b, c)) + p * k / 2 * (1 - 2 * theta_down(b, c))) + \n",
    "                    c_up(c) * ((1 - p) * theta_up(b, c) ** q * (k - 2 * q - 2 * (k - q) * theta_up(b, c)) + p * k / 2 * (1 - 2 * theta_up(b, c)))) ])\n",
    "    "
   ]
  },
  {
   "cell_type": "code",
   "execution_count": 3,
   "metadata": {},
   "outputs": [],
   "source": [
    "def p_from_c(c, q, k):\n",
    "    \"\"\"Not working yet, sth is wrong in Arek article or I do not understand it\n",
    "\n",
    "    Args:\n",
    "        c (_type_): _description_\n",
    "        q (_type_): _description_\n",
    "        k (_type_): _description_\n",
    "\n",
    "    Returns:\n",
    "        _type_: _description_\n",
    "    \"\"\"    \n",
    "    b = 2 * (c * (1 - c) * ((1 - c) ** q - c ** q) - (q / k) * (1 - 2 * c) * (c * (1 - c) ** q + (1 - c) * c ** q)) / ((1 - c) ** q - c ** q - (q / k) * (1 - 2 * c) * ((1 - c) ** q + c ** q))\n",
    "    X = c_down(c) * theta_down(b, c) ** q - c_up(c) * theta_up(b, c) ** q\n",
    "    Y = c_down(c) * theta_down(b, c) ** q - c_up(c) * theta_up(b, c) ** q - (c_down(c) - c_up(c)) / 2\n",
    "    return X / (X - Y)"
   ]
  },
  {
   "cell_type": "code",
   "execution_count": 4,
   "metadata": {},
   "outputs": [],
   "source": [
    "c = 1\n",
    "q = 8\n",
    "k = 40"
   ]
  },
  {
   "cell_type": "code",
   "execution_count": 5,
   "metadata": {},
   "outputs": [
    {
     "data": {
      "text/plain": [
       "-0.048943497987377245"
      ]
     },
     "execution_count": 5,
     "metadata": {},
     "output_type": "execute_result"
    }
   ],
   "source": [
    "p_from_c(0.6, 8, 40)"
   ]
  },
  {
   "cell_type": "code",
   "execution_count": 6,
   "metadata": {},
   "outputs": [],
   "source": [
    "t = linspace(0, 1500,  10000)              # time\n",
    "X0 = array([0.4, 0.1])                 # initials conditions\n",
    "sol = integrate.solve_ivp(dX_dt, [0, 3000], X0, dense_output=True)"
   ]
  },
  {
   "cell_type": "code",
   "execution_count": 7,
   "metadata": {},
   "outputs": [
    {
     "data": {
      "text/plain": [
       "Text(0, 0.5, 'value')"
      ]
     },
     "execution_count": 7,
     "metadata": {},
     "output_type": "execute_result"
    },
    {
     "data": {
      "image/png": "[encoded data removed]",
      "text/plain": [
       "<Figure size 432x288 with 1 Axes>"
      ]
     },
     "metadata": {
      "needs_background": "light"
     },
     "output_type": "display_data"
    },
    {
     "data": {
      "image/png": "[encoded data removed]",
      "text/plain": [
       "<Figure size 432x288 with 1 Axes>"
      ]
     },
     "metadata": {
      "needs_background": "light"
     },
     "output_type": "display_data"
    }
   ],
   "source": [
    "c, b = sol.sol(t)\n",
    "f1 = pylab.figure()\n",
    "pylab.plot(t, c, 'r-', label='c')\n",
    "pylab.grid()\n",
    "pylab.legend(loc='best')\n",
    "pylab.xlabel('time')\n",
    "pylab.ylabel('value')\n",
    "f2 = pylab.figure()\n",
    "pylab.plot(t, b  , 'b-', label='b')\n",
    "pylab.grid()\n",
    "pylab.legend(loc='best')\n",
    "pylab.xlabel('time')\n",
    "pylab.ylabel('value')"
   ]
  },
  {
   "cell_type": "markdown",
   "metadata": {},
   "source": [
    "For different $q_a$ and $q_c$"
   ]
  },
  {
   "cell_type": "code",
   "execution_count": 8,
   "metadata": {},
   "outputs": [],
   "source": [
    "from numpy import *\n",
    "import pylab\n",
    "from scipy import integrate\n",
    "# Definition of parameters\n",
    "p = 0.03\n",
    "k = 50\n",
    "q_a = 4\n",
    "q_c = 10\n",
    "c_down = lambda c: 1 - c\n",
    "c_up = lambda c: c\n",
    "theta_down = lambda b, c: b / (2 * (1 - c))\n",
    "theta_up = lambda b, c: b / ((2 * c))\n",
    "def dX_dt(t, X, p):\n",
    "    \"\"\" Return the growth rate of fox and rabbit populations. \"\"\"\n",
    "    c = X[0]\n",
    "    b = X[1]\n",
    "    return array([ (1 - p) * (c_down(c) * theta_down(b, c) ** q_c - c_up(c) * theta_up(b ,c) ** q_c) + p * (c_down(c) * ( 1 - theta_down(b, c)) ** q_a - c_up(c) * (1 - theta_up(b, c)) ** q_a) ,\n",
    "                    2 / k * (c_down(c) * ((1 - p) * theta_down(b, c) ** q_c * (k - 2 * q_c - 2 * (k - q_c) * theta_down(b, c)) + p * (1 - theta_down(b, c)) ** q_a * (k - 2 * (k - q_a) * theta_down(b, c))) + \n",
    "                    c_up(c) * ((1 - p) * theta_up(b, c) ** q_c * (k - 2 * q_c - 2 * (k - q_c) * theta_up(b, c)) + p * (1 - theta_up(b, c)) ** q_a * (k - 2 * (k - q_a) * theta_up(b, c)))) ])\n",
    "    "
   ]
  },
  {
   "cell_type": "code",
   "execution_count": 9,
   "metadata": {},
   "outputs": [
    {
     "ename": "KeyboardInterrupt",
     "evalue": "",
     "output_type": "error",
     "traceback": [
      "\u001b[1;31m---------------------------------------------------------------------------\u001b[0m",
      "\u001b[1;31mKeyboardInterrupt\u001b[0m                         Traceback (most recent call last)",
      "\u001b[1;32mc:\\Users\\andrz\\DPOCN_project\\K_Weron_article_fiddling\\PA_model.ipynb Cell 11'\u001b[0m in \u001b[0;36m<module>\u001b[1;34m\u001b[0m\n\u001b[0;32m      <a href='vscode-notebook-cell:/c%3A/Users/andrz/DPOCN_project/K_Weron_article_fiddling/PA_model.ipynb#ch0000010?line=3'>4</a>\u001b[0m \u001b[39mfor\u001b[39;00m i, p \u001b[39min\u001b[39;00m \u001b[39menumerate\u001b[39m(P):\n\u001b[0;32m      <a href='vscode-notebook-cell:/c%3A/Users/andrz/DPOCN_project/K_Weron_article_fiddling/PA_model.ipynb#ch0000010?line=4'>5</a>\u001b[0m     X0 \u001b[39m=\u001b[39m array([\u001b[39m0.999\u001b[39m, \u001b[39m1\u001b[39m \u001b[39m-\u001b[39m \u001b[39m0.999\u001b[39m])                 \u001b[39m# initials conditions\u001b[39;00m\n\u001b[1;32m----> <a href='vscode-notebook-cell:/c%3A/Users/andrz/DPOCN_project/K_Weron_article_fiddling/PA_model.ipynb#ch0000010?line=5'>6</a>\u001b[0m     sol \u001b[39m=\u001b[39m integrate\u001b[39m.\u001b[39;49msolve_ivp(dX_dt, [\u001b[39m0\u001b[39;49m, \u001b[39m100000\u001b[39;49m], X0, args \u001b[39m=\u001b[39;49m [p], dense_output \u001b[39m=\u001b[39;49m \u001b[39mTrue\u001b[39;49;00m)\n\u001b[0;32m      <a href='vscode-notebook-cell:/c%3A/Users/andrz/DPOCN_project/K_Weron_article_fiddling/PA_model.ipynb#ch0000010?line=6'>7</a>\u001b[0m     c, b \u001b[39m=\u001b[39m sol\u001b[39m.\u001b[39msol(t)\n\u001b[0;32m      <a href='vscode-notebook-cell:/c%3A/Users/andrz/DPOCN_project/K_Weron_article_fiddling/PA_model.ipynb#ch0000010?line=7'>8</a>\u001b[0m     Stable_states[i] \u001b[39m=\u001b[39m c[\u001b[39m-\u001b[39m\u001b[39m1\u001b[39m]\n",
      "File \u001b[1;32mc:\\Users\\andrz\\AppData\\Local\\Programs\\Python\\Python310\\lib\\site-packages\\scipy\\integrate\\_ivp\\ivp.py:580\u001b[0m, in \u001b[0;36msolve_ivp\u001b[1;34m(fun, t_span, y0, method, t_eval, dense_output, events, vectorized, args, **options)\u001b[0m\n\u001b[0;32m    <a href='file:///c%3A/Users/andrz/AppData/Local/Programs/Python/Python310/lib/site-packages/scipy/integrate/_ivp/ivp.py?line=577'>578</a>\u001b[0m status \u001b[39m=\u001b[39m \u001b[39mNone\u001b[39;00m\n\u001b[0;32m    <a href='file:///c%3A/Users/andrz/AppData/Local/Programs/Python/Python310/lib/site-packages/scipy/integrate/_ivp/ivp.py?line=578'>579</a>\u001b[0m \u001b[39mwhile\u001b[39;00m status \u001b[39mis\u001b[39;00m \u001b[39mNone\u001b[39;00m:\n\u001b[1;32m--> <a href='file:///c%3A/Users/andrz/AppData/Local/Programs/Python/Python310/lib/site-packages/scipy/integrate/_ivp/ivp.py?line=579'>580</a>\u001b[0m     message \u001b[39m=\u001b[39m solver\u001b[39m.\u001b[39;49mstep()\n\u001b[0;32m    <a href='file:///c%3A/Users/andrz/AppData/Local/Programs/Python/Python310/lib/site-packages/scipy/integrate/_ivp/ivp.py?line=581'>582</a>\u001b[0m     \u001b[39mif\u001b[39;00m solver\u001b[39m.\u001b[39mstatus \u001b[39m==\u001b[39m \u001b[39m'\u001b[39m\u001b[39mfinished\u001b[39m\u001b[39m'\u001b[39m:\n\u001b[0;32m    <a href='file:///c%3A/Users/andrz/AppData/Local/Programs/Python/Python310/lib/site-packages/scipy/integrate/_ivp/ivp.py?line=582'>583</a>\u001b[0m         status \u001b[39m=\u001b[39m \u001b[39m0\u001b[39m\n",
      "File \u001b[1;32mc:\\Users\\andrz\\AppData\\Local\\Programs\\Python\\Python310\\lib\\site-packages\\scipy\\integrate\\_ivp\\base.py:181\u001b[0m, in \u001b[0;36mOdeSolver.step\u001b[1;34m(self)\u001b[0m\n\u001b[0;32m    <a href='file:///c%3A/Users/andrz/AppData/Local/Programs/Python/Python310/lib/site-packages/scipy/integrate/_ivp/base.py?line=178'>179</a>\u001b[0m \u001b[39melse\u001b[39;00m:\n\u001b[0;32m    <a href='file:///c%3A/Users/andrz/AppData/Local/Programs/Python/Python310/lib/site-packages/scipy/integrate/_ivp/base.py?line=179'>180</a>\u001b[0m     t \u001b[39m=\u001b[39m \u001b[39mself\u001b[39m\u001b[39m.\u001b[39mt\n\u001b[1;32m--> <a href='file:///c%3A/Users/andrz/AppData/Local/Programs/Python/Python310/lib/site-packages/scipy/integrate/_ivp/base.py?line=180'>181</a>\u001b[0m     success, message \u001b[39m=\u001b[39m \u001b[39mself\u001b[39;49m\u001b[39m.\u001b[39;49m_step_impl()\n\u001b[0;32m    <a href='file:///c%3A/Users/andrz/AppData/Local/Programs/Python/Python310/lib/site-packages/scipy/integrate/_ivp/base.py?line=182'>183</a>\u001b[0m     \u001b[39mif\u001b[39;00m \u001b[39mnot\u001b[39;00m success:\n\u001b[0;32m    <a href='file:///c%3A/Users/andrz/AppData/Local/Programs/Python/Python310/lib/site-packages/scipy/integrate/_ivp/base.py?line=183'>184</a>\u001b[0m         \u001b[39mself\u001b[39m\u001b[39m.\u001b[39mstatus \u001b[39m=\u001b[39m \u001b[39m'\u001b[39m\u001b[39mfailed\u001b[39m\u001b[39m'\u001b[39m\n",
      "File \u001b[1;32mc:\\Users\\andrz\\AppData\\Local\\Programs\\Python\\Python310\\lib\\site-packages\\scipy\\integrate\\_ivp\\rk.py:144\u001b[0m, in \u001b[0;36mRungeKutta._step_impl\u001b[1;34m(self)\u001b[0m\n\u001b[0;32m    <a href='file:///c%3A/Users/andrz/AppData/Local/Programs/Python/Python310/lib/site-packages/scipy/integrate/_ivp/rk.py?line=140'>141</a>\u001b[0m h \u001b[39m=\u001b[39m t_new \u001b[39m-\u001b[39m t\n\u001b[0;32m    <a href='file:///c%3A/Users/andrz/AppData/Local/Programs/Python/Python310/lib/site-packages/scipy/integrate/_ivp/rk.py?line=141'>142</a>\u001b[0m h_abs \u001b[39m=\u001b[39m np\u001b[39m.\u001b[39mabs(h)\n\u001b[1;32m--> <a href='file:///c%3A/Users/andrz/AppData/Local/Programs/Python/Python310/lib/site-packages/scipy/integrate/_ivp/rk.py?line=143'>144</a>\u001b[0m y_new, f_new \u001b[39m=\u001b[39m rk_step(\u001b[39mself\u001b[39;49m\u001b[39m.\u001b[39;49mfun, t, y, \u001b[39mself\u001b[39;49m\u001b[39m.\u001b[39;49mf, h, \u001b[39mself\u001b[39;49m\u001b[39m.\u001b[39;49mA,\n\u001b[0;32m    <a href='file:///c%3A/Users/andrz/AppData/Local/Programs/Python/Python310/lib/site-packages/scipy/integrate/_ivp/rk.py?line=144'>145</a>\u001b[0m                        \u001b[39mself\u001b[39;49m\u001b[39m.\u001b[39;49mB, \u001b[39mself\u001b[39;49m\u001b[39m.\u001b[39;49mC, \u001b[39mself\u001b[39;49m\u001b[39m.\u001b[39;49mK)\n\u001b[0;32m    <a href='file:///c%3A/Users/andrz/AppData/Local/Programs/Python/Python310/lib/site-packages/scipy/integrate/_ivp/rk.py?line=145'>146</a>\u001b[0m scale \u001b[39m=\u001b[39m atol \u001b[39m+\u001b[39m np\u001b[39m.\u001b[39mmaximum(np\u001b[39m.\u001b[39mabs(y), np\u001b[39m.\u001b[39mabs(y_new)) \u001b[39m*\u001b[39m rtol\n\u001b[0;32m    <a href='file:///c%3A/Users/andrz/AppData/Local/Programs/Python/Python310/lib/site-packages/scipy/integrate/_ivp/rk.py?line=146'>147</a>\u001b[0m error_norm \u001b[39m=\u001b[39m \u001b[39mself\u001b[39m\u001b[39m.\u001b[39m_estimate_error_norm(\u001b[39mself\u001b[39m\u001b[39m.\u001b[39mK, h, scale)\n",
      "File \u001b[1;32mc:\\Users\\andrz\\AppData\\Local\\Programs\\Python\\Python310\\lib\\site-packages\\scipy\\integrate\\_ivp\\rk.py:63\u001b[0m, in \u001b[0;36mrk_step\u001b[1;34m(fun, t, y, f, h, A, B, C, K)\u001b[0m\n\u001b[0;32m     <a href='file:///c%3A/Users/andrz/AppData/Local/Programs/Python/Python310/lib/site-packages/scipy/integrate/_ivp/rk.py?line=60'>61</a>\u001b[0m K[\u001b[39m0\u001b[39m] \u001b[39m=\u001b[39m f\n\u001b[0;32m     <a href='file:///c%3A/Users/andrz/AppData/Local/Programs/Python/Python310/lib/site-packages/scipy/integrate/_ivp/rk.py?line=61'>62</a>\u001b[0m \u001b[39mfor\u001b[39;00m s, (a, c) \u001b[39min\u001b[39;00m \u001b[39menumerate\u001b[39m(\u001b[39mzip\u001b[39m(A[\u001b[39m1\u001b[39m:], C[\u001b[39m1\u001b[39m:]), start\u001b[39m=\u001b[39m\u001b[39m1\u001b[39m):\n\u001b[1;32m---> <a href='file:///c%3A/Users/andrz/AppData/Local/Programs/Python/Python310/lib/site-packages/scipy/integrate/_ivp/rk.py?line=62'>63</a>\u001b[0m     dy \u001b[39m=\u001b[39m np\u001b[39m.\u001b[39;49mdot(K[:s]\u001b[39m.\u001b[39;49mT, a[:s]) \u001b[39m*\u001b[39m h\n\u001b[0;32m     <a href='file:///c%3A/Users/andrz/AppData/Local/Programs/Python/Python310/lib/site-packages/scipy/integrate/_ivp/rk.py?line=63'>64</a>\u001b[0m     K[s] \u001b[39m=\u001b[39m fun(t \u001b[39m+\u001b[39m c \u001b[39m*\u001b[39m h, y \u001b[39m+\u001b[39m dy)\n\u001b[0;32m     <a href='file:///c%3A/Users/andrz/AppData/Local/Programs/Python/Python310/lib/site-packages/scipy/integrate/_ivp/rk.py?line=65'>66</a>\u001b[0m y_new \u001b[39m=\u001b[39m y \u001b[39m+\u001b[39m h \u001b[39m*\u001b[39m np\u001b[39m.\u001b[39mdot(K[:\u001b[39m-\u001b[39m\u001b[39m1\u001b[39m]\u001b[39m.\u001b[39mT, B)\n",
      "File \u001b[1;32m<__array_function__ internals>:5\u001b[0m, in \u001b[0;36mdot\u001b[1;34m(*args, **kwargs)\u001b[0m\n",
      "\u001b[1;31mKeyboardInterrupt\u001b[0m: "
     ]
    }
   ],
   "source": [
    "P = linspace(0, 0.07, 100)\n",
    "t = linspace(0, 10000,  10000)\n",
    "Stable_states = ones(size(P))\n",
    "for i, p in enumerate(P):\n",
    "    X0 = array([0.999, 1 - 0.999])                 # initials conditions\n",
    "    sol = integrate.solve_ivp(dX_dt, [0, 10000], X0, args = [p], dense_output = True)\n",
    "    c, b = sol.sol(t)\n",
    "    Stable_states[i] = c[-1]"
   ]
  },
  {
   "cell_type": "markdown",
   "metadata": {},
   "source": [
    "trying to calculate c vs p"
   ]
  },
  {
   "cell_type": "code",
   "execution_count": null,
   "metadata": {},
   "outputs": [
    {
     "data": {
      "text/plain": [
       "[<matplotlib.lines.Line2D at 0x17410231d50>]"
      ]
     },
     "execution_count": 73,
     "metadata": {},
     "output_type": "execute_result"
    },
    {
     "data": {
      "image/png": "[encoded data removed]",
      "text/plain": [
       "<Figure size 432x288 with 1 Axes>"
      ]
     },
     "metadata": {
      "needs_background": "light"
     },
     "output_type": "display_data"
    }
   ],
   "source": [
    "plt.plot(P, Stable_states, '.')"
   ]
  },
  {
   "cell_type": "code",
   "execution_count": null,
   "metadata": {},
   "outputs": [],
   "source": [
    "P = linspace(0, 0.07, 100)\n",
    "t = linspace(0, 100000,  10000)\n",
    "Stable_states = ones(size(P))\n",
    "for i, p in enumerate(P):\n",
    "    X0 = array([0.50001, 0.1])                 # initials conditions\n",
    "    sol = integrate.solve_ivp(dX_dt, [0, 100000], X0, args = [p], dense_output = True)\n",
    "    c, b = sol.sol(t)\n",
    "    Stable_states[i] = c[-1]"
   ]
  },
  {
   "cell_type": "code",
   "execution_count": null,
   "metadata": {},
   "outputs": [
    {
     "data": {
      "text/plain": [
       "[<matplotlib.lines.Line2D at 0x174101ae0e0>]"
      ]
     },
     "execution_count": 75,
     "metadata": {},
     "output_type": "execute_result"
    },
    {
     "data": {
      "image/png": "[encoded data removed]",
      "text/plain": [
       "<Figure size 432x288 with 1 Axes>"
      ]
     },
     "metadata": {
      "needs_background": "light"
     },
     "output_type": "display_data"
    }
   ],
   "source": [
    "plt.plot(P, Stable_states, '.')"
   ]
  },
  {
   "cell_type": "code",
   "execution_count": null,
   "metadata": {},
   "outputs": [],
   "source": [
    " (1 - p) * (c_down(c) * theta_down(b, c) ** q_c - c_up(c) * theta_up(b ,c) ** q_c) + p * (c_down(c) * ( 1 - theta_down(b, c)) ** q_a - c_up(c) * (1 - theta_up(b, c)) ** q_a) ,\n",
    "                    2 / k * (c_down(c) * ((1 - p) * theta_down(b, c) ** q_c * (k - 2 * q_c - 2 * (k - q_c) * theta_down(b, c)) + p * (1 - theta_down(b, c)) ** q_a * (k - 2 * (k - q_a) * theta_down(b, c))) + \n",
    "                    c_up(c) * ((1 - p) * theta_up(b, c) ** q_c * (k - 2 * q_c - 2 * (k - q_c) * theta_up(b, c)) + p * (1 - theta_up(b, c)) ** q_a * (k - 2 * (k - q_a) * theta_up(b, c)))) "
   ]
  },
  {
   "cell_type": "code",
   "execution_count": 4,
   "metadata": {},
   "outputs": [
    {
     "name": "stdout",
     "output_type": "stream",
     "text": [
      "0.07711420573169014 0.04042509107523247\n"
     ]
    }
   ],
   "source": [
    "from scipy.optimize import fsolve\n",
    "import scipy.optimize as optimize\n",
    "q_a = 4\n",
    "q_c = 10\n",
    "k = 50\n",
    "p = 0.03\n",
    "c_down = lambda c: 1 - c\n",
    "c_up = lambda c: c\n",
    "theta_down = lambda b, c: b / (2 * (1 - c))\n",
    "theta_up = lambda b, c: b / ((2 * c))\n",
    "def equations(vars):\n",
    "    b, c = vars\n",
    "    eq1 = (1 - p) * (c_down(c) * theta_down(b, c) ** q_c - c_up(c) * theta_up(b ,c) ** q_c) + p * (c_down(c) * ( 1 - theta_down(b, c)) ** q_a - c_up(c) * (1 - theta_up(b, c)) ** q_a)\n",
    "    eq2 = 2 / k * (c_down(c) * ((1 - p) * theta_down(b, c) ** q_c * (k - 2 * q_c - 2 * (k - q_c) * theta_down(b, c)) + p * (1 - theta_down(b, c)) ** q_a * (k - 2 * (k - q_a) * theta_down(b, c))) + \n",
    "                        c_up(c) * ((1 - p) * theta_up(b, c) ** q_c * (k - 2 * q_c - 2 * (k - q_c) * theta_up(b, c)) + p * (1 - theta_up(b, c)) ** q_a * (k - 2 * (k - q_a) * theta_up(b, c))))\n",
    "    return [eq1, eq2]\n",
    "\n",
    "x, y =  fsolve(equations, (0.8, 0.2))\n",
    "\n",
    "print(x, y)"
   ]
  },
  {
   "cell_type": "code",
   "execution_count": 5,
   "metadata": {},
   "outputs": [],
   "source": [
    "def f(b):\n",
    "    eq1 = (1 - p) * (c_down(c) * theta_down(b, c) ** q_c - c_up(c) * theta_up(b ,c) ** q_c) + p * (c_down(c) * ( 1 - theta_down(b, c)) ** q_a - c_up(c) * (1 - theta_up(b, c)) ** q_a)\n",
    "    eq2 = 2 / k * (c_down(c) * ((1 - p) * theta_down(b, c) ** q_c * (k - 2 * q_c - 2 * (k - q_c) * theta_down(b, c)) + p * (1 - theta_down(b, c)) ** q_a * (k - 2 * (k - q_a) * theta_down(b, c))) + \n",
    "                        c_up(c) * ((1 - p) * theta_up(b, c) ** q_c * (k - 2 * q_c - 2 * (k - q_c) * theta_up(b, c)) + p * (1 - theta_up(b, c)) ** q_a * (k - 2 * (k - q_a) * theta_up(b, c))))\n",
    "    return eq2 - eq1"
   ]
  },
  {
   "cell_type": "code",
   "execution_count": 34,
   "metadata": {},
   "outputs": [
    {
     "name": "stderr",
     "output_type": "stream",
     "text": [
      "c:\\Users\\andrz\\AppData\\Local\\Programs\\Python\\Python310\\lib\\site-packages\\scipy\\optimize\\_minpack_py.py:175: RuntimeWarning: The number of calls to function has reached maxfev = 600.\n",
      "  warnings.warn(msg, RuntimeWarning)\n"
     ]
    }
   ],
   "source": [
    "P = ones(1000)\n",
    "for i, c in enumerate(linspace(0.5001, 0.9, 1000)):\n",
    "    def equations(vars):\n",
    "        p, b = vars\n",
    "        eq1 = (1 - p) * (c_down(c) * theta_down(b, c) ** q_c - c_up(c) * theta_up(b ,c) ** q_c) + p * (c_down(c) * ( 1 - theta_down(b, c)) ** q_a - c_up(c) * (1 - theta_up(b, c)) ** q_a)\n",
    "        eq2 = 2 / k * (c_down(c) * ((1 - p) * theta_down(b, c) ** q_c * (k - 2 * q_c - 2 * (k - q_c) * theta_down(b, c)) + p * (1 - theta_down(b, c)) ** q_a * (k - 2 * (k - q_a) * theta_down(b, c))) + \n",
    "                            c_up(c) * ((1 - p) * theta_up(b, c) ** q_c * (k - 2 * q_c - 2 * (k - q_c) * theta_up(b, c)) + p * (1 - theta_up(b, c)) ** q_a * (k - 2 * (k - q_a) * theta_up(b, c))))\n",
    "        return [eq1, eq2]\n",
    "    P[i], _ =  fsolve(equations, (0.055, 0.45))"
   ]
  },
  {
   "cell_type": "code",
   "execution_count": 43,
   "metadata": {},
   "outputs": [
    {
     "data": {
      "text/plain": [
       "(0.0, 0.07)"
      ]
     },
     "execution_count": 43,
     "metadata": {},
     "output_type": "execute_result"
    },
    {
     "data": {
      "image/png": "[encoded data removed]",
      "text/plain": [
       "<Figure size 432x288 with 1 Axes>"
      ]
     },
     "metadata": {
      "needs_background": "light"
     },
     "output_type": "display_data"
    }
   ],
   "source": [
    "f, ax = plt.subplots()\n",
    "ax.plot(P, linspace(0.5001, 0.9, 1000))\n",
    "ax.set_xlim([0, 0.07])"
   ]
  },
  {
   "cell_type": "code",
   "execution_count": 36,
   "metadata": {},
   "outputs": [
    {
     "data": {
      "text/plain": [
       "(0.0, 0.07)"
      ]
     },
     "execution_count": 36,
     "metadata": {},
     "output_type": "execute_result"
    },
    {
     "data": {
      "image/png": "[encoded data removed]",
      "text/plain": [
       "<Figure size 432x288 with 1 Axes>"
      ]
     },
     "metadata": {
      "needs_background": "light"
     },
     "output_type": "display_data"
    }
   ],
   "source": [
    "P_prim = delete(P, where(P < 0.001))\n",
    "plt.plot(P_prim)\n",
    "plt.ylim([0, 0.07])"
   ]
  },
  {
   "cell_type": "code",
   "execution_count": 37,
   "metadata": {},
   "outputs": [
    {
     "data": {
      "text/plain": [
       "17"
      ]
     },
     "execution_count": 37,
     "metadata": {},
     "output_type": "execute_result"
    }
   ],
   "source": [
    "len(P) - len(P_prim)\n"
   ]
  },
  {
   "cell_type": "code",
   "execution_count": 42,
   "metadata": {},
   "outputs": [],
   "source": [
    "P_bis = copy(P)"
   ]
  },
  {
   "cell_type": "code",
   "execution_count": 40,
   "metadata": {},
   "outputs": [
    {
     "data": {
      "text/plain": [
       "0      0.021340\n",
       "1      0.021340\n",
       "2      0.021340\n",
       "3      0.021340\n",
       "4      0.021339\n",
       "         ...   \n",
       "995    0.048320\n",
       "996    0.048271\n",
       "997    0.048221\n",
       "998    0.048170\n",
       "999    0.048118\n",
       "Length: 1000, dtype: float64"
      ]
     },
     "execution_count": 40,
     "metadata": {},
     "output_type": "execute_result"
    }
   ],
   "source": [
    "a = pd.Series(P_bis)\n",
    "\n",
    "a[a < 0.01] = nan\n",
    "\n",
    "a.interpolate(method='polynomial', order=2)\n"
   ]
  },
  {
   "cell_type": "code",
   "execution_count": 41,
   "metadata": {},
   "outputs": [
    {
     "data": {
      "text/plain": [
       "[<matplotlib.lines.Line2D at 0x2449b76cfd0>]"
      ]
     },
     "execution_count": 41,
     "metadata": {},
     "output_type": "execute_result"
    },
    {
     "data": {
      "image/png": "[encoded data removed]",
      "text/plain": [
       "<Figure size 432x288 with 1 Axes>"
      ]
     },
     "metadata": {
      "needs_background": "light"
     },
     "output_type": "display_data"
    }
   ],
   "source": [
    "plt.plot(a)"
   ]
  },
  {
   "cell_type": "code",
   "execution_count": null,
   "metadata": {},
   "outputs": [],
   "source": []
  }
 ],
 "metadata": {
  "interpreter": {
   "hash": "d38922d36489c8af6ee2b2d50f32a85ff90f4f0643b51da8d07090b2c64ad6eb"
  },
  "kernelspec": {
   "display_name": "Python 3.10.1 64-bit",
   "language": "python",
   "name": "python3"
  },
  "language_info": {
   "codemirror_mode": {
    "name": "ipython",
    "version": 3
   },
   "file_extension": ".py",
   "mimetype": "text/x-python",
   "name": "python",
   "nbconvert_exporter": "python",
   "pygments_lexer": "ipython3",
   "version": "3.10.1"
  },
  "orig_nbformat": 4
 },
 "nbformat": 4,
 "nbformat_minor": 2
}
