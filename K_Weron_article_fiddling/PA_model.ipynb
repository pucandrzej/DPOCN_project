{
 "cells": [
  {
   "cell_type": "markdown",
   "metadata": {},
   "source": [
    "Attempt to solve the PA model differential equations system."
   ]
  },
  {
   "cell_type": "code",
   "execution_count": 6,
   "metadata": {},
   "outputs": [],
   "source": [
    "from numpy import *\n",
    "import pylab\n",
    "from scipy import integrate\n",
    "# Definition of parameters\n",
    "p = 0.1\n",
    "k = 40\n",
    "q = 8\n",
    "c_down = lambda c: 1 - c\n",
    "c_up = lambda c: c\n",
    "theta_down = lambda b, c: b / (2 * c)\n",
    "theta_up = lambda b, c: b / ((2 * (1 - c)))\n",
    "def dX_dt(X, t = 0):\n",
    "    \"\"\" Return the growth rate of fox and rabbit populations. \"\"\"\n",
    "    c = X[0]\n",
    "    b = X[1]\n",
    "    return array([ (1 - p) * (c_down(c) * theta_down(b, c) ** q - c_up(c) * theta_up(b ,c) ** q) + p / 2 * (c_down(c) - c_up(c)) ,\n",
    "                    2 / k * (c_down(c) * ((1 - p) * theta_down(b, c) ** q * (k - 2 * q - 2 * (k - q) * theta_down(b, c)) + p * k / 2 * (1 - 2 * theta_down(b, c))) + \n",
    "                    c_up(c) * ((1 - p) * theta_up(b, c) ** q * (k - 2 * q - 2 * (k - q) * theta_up(b, c)) + p * k / 2 * (1 - 2 * theta_up(b, c)))) ])"
   ]
  },
  {
   "cell_type": "code",
   "execution_count": 7,
   "metadata": {},
   "outputs": [
    {
     "data": {
      "text/plain": [
       "'Integration successful.'"
      ]
     },
     "execution_count": 7,
     "metadata": {},
     "output_type": "execute_result"
    }
   ],
   "source": [
    "t = linspace(0, 150,  10000)              # time\n",
    "X0 = array([0.9, 0.05])                 # initials conditions\n",
    "X, infodict = integrate.odeint(dX_dt, X0, t, full_output=True)\n",
    "infodict['message']"
   ]
  },
  {
   "cell_type": "code",
   "execution_count": 8,
   "metadata": {},
   "outputs": [
    {
     "data": {
      "text/plain": [
       "Text(0, 0.5, 'population')"
      ]
     },
     "execution_count": 8,
     "metadata": {},
     "output_type": "execute_result"
    },
    {
     "data": {
      "image/png": "[encoded data removed]",
      "text/plain": [
       "<Figure size 432x288 with 1 Axes>"
      ]
     },
     "metadata": {
      "needs_background": "light"
     },
     "output_type": "display_data"
    },
    {
     "data": {
      "image/png": "[encoded data removed]",
      "text/plain": [
       "<Figure size 432x288 with 1 Axes>"
      ]
     },
     "metadata": {
      "needs_background": "light"
     },
     "output_type": "display_data"
    }
   ],
   "source": [
    "c, b = X.T\n",
    "f1 = pylab.figure()\n",
    "pylab.plot(c, 'r-', label='c')\n",
    "pylab.grid()\n",
    "pylab.legend(loc='best')\n",
    "pylab.xlabel('time')\n",
    "pylab.ylabel('population')\n",
    "f2 = pylab.figure()\n",
    "pylab.plot(t, b  , 'b-', label='b')\n",
    "pylab.grid()\n",
    "pylab.legend(loc='best')\n",
    "pylab.xlabel('time')\n",
    "pylab.ylabel('population')"
   ]
  },
  {
   "cell_type": "markdown",
   "metadata": {},
   "source": [
    "For different $q_a$ and $q_c$"
   ]
  },
  {
   "cell_type": "code",
   "execution_count": null,
   "metadata": {},
   "outputs": [],
   "source": [
    "from numpy import *\n",
    "import pylab\n",
    "from scipy import integrate\n",
    "# Definition of parameters\n",
    "p = 0.1\n",
    "k = 40\n",
    "q = 8\n",
    "c_down = lambda c: 1 - c\n",
    "c_up = lambda c: c\n",
    "theta_down = lambda b, c: b / (2 * c)\n",
    "theta_up = lambda b, c: b / ((2 * (1 - c)))\n",
    "def dX_dt(X, t = 0):\n",
    "    \"\"\" Return the growth rate of fox and rabbit populations. \"\"\"\n",
    "    c = X[0]\n",
    "    b = X[1]\n",
    "    return array([ (1 - p) * (c_down(c) * theta_down(b, c) - c_up(c) * theta_up(b ,c)) + p * (c_down(c) - c_up(c)) ,\n",
    "                    2 / k * (c_down(c) * ((1 - p) * theta_down(b, c) * (k - 2 * q - 2 * (k - q) * theta_down(b, c)) + p * k / 2 * (1 - 2 * theta_down(b, c))) + \n",
    "                    c_up(c) * ((1 - p) * theta_up(b, c) * (k - 2 * q - 2 * (k - q) * theta_up(b, c)) + p * k / 2 * (1 - 2 * theta_up(b, c)))) ])"
   ]
  }
 ],
 "metadata": {
  "interpreter": {
   "hash": "d38922d36489c8af6ee2b2d50f32a85ff90f4f0643b51da8d07090b2c64ad6eb"
  },
  "kernelspec": {
   "display_name": "Python 3.10.1 64-bit",
   "language": "python",
   "name": "python3"
  },
  "language_info": {
   "codemirror_mode": {
    "name": "ipython",
    "version": 3
   },
   "file_extension": ".py",
   "mimetype": "text/x-python",
   "name": "python",
   "nbconvert_exporter": "python",
   "pygments_lexer": "ipython3",
   "version": "3.10.1"
  },
  "orig_nbformat": 4
 },
 "nbformat": 4,
 "nbformat_minor": 2
}
